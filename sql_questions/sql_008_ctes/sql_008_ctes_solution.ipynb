{
 "cells": [
  {
   "cell_type": "code",
   "execution_count": 1,
   "id": "1cd583ed",
   "metadata": {},
   "outputs": [
    {
     "data": {
      "text/html": [
       "<div><div></div><div></div><div><strong>Installed Packages</strong><ul><li><span>Microsoft.DotNet.Interactive.SqlServer, 1.0.0-beta.25323.1</span></li></ul></div></div>"
      ]
     },
     "metadata": {},
     "output_type": "display_data"
    },
    {
     "data": {
      "text/plain": [
       "Loading extension script from `C:\\Users\\Pedro_Carvalho1\\.nuget\\packages\\microsoft.dotnet.interactive.sqlserver\\1.0.0-beta.25323.1\\interactive-extensions\\dotnet\\extension.dib`"
      ]
     },
     "metadata": {},
     "output_type": "display_data"
    },
    {
     "data": {
      "text/html": [
       "<details><summary>Query Microsoft SQL Server databases.</summary>\r\n",
       "<p>This extension adds support for connecting to Microsoft SQL Server databases using the <code>#!connect mssql</code> magic command. For more information, run a cell using the <code>#!sql</code> magic command.</p>\r\n",
       "</details>"
      ]
     },
     "metadata": {},
     "output_type": "display_data"
    }
   ],
   "source": [
    "#r \"nuget:Microsoft.DotNet.Interactive.SqlServer, *-*\""
   ]
  },
  {
   "cell_type": "code",
   "execution_count": 2,
   "id": "f5548928",
   "metadata": {},
   "outputs": [],
   "source": [
    "using System.IO;\n",
    "\n",
    "var connStr = File.ReadAllText(@\"C:\\Users\\Pedro_Carvalho1\\conn_str.txt\");\n",
    "\n",
    "#!share --from csharp connStr"
   ]
  },
  {
   "cell_type": "code",
   "execution_count": 3,
   "id": "aa9c4e34",
   "metadata": {},
   "outputs": [
    {
     "data": {
      "text/plain": [
       "Kernel added: #!sql-sql"
      ]
     },
     "metadata": {},
     "output_type": "display_data"
    }
   ],
   "source": [
    "#!connect mssql --kernel-name sql --connection-string @connStr"
   ]
  },
  {
   "cell_type": "code",
   "execution_count": 4,
   "id": "e7111e9b",
   "metadata": {},
   "outputs": [
    {
     "data": {
      "text/plain": [
       "Commands completed successfully."
      ]
     },
     "metadata": {},
     "output_type": "display_data"
    },
    {
     "data": {
      "text/plain": [
       "Commands completed successfully."
      ]
     },
     "metadata": {},
     "output_type": "display_data"
    },
    {
     "data": {
      "text/plain": [
       "Commands completed successfully."
      ]
     },
     "metadata": {},
     "output_type": "display_data"
    },
    {
     "data": {
      "text/plain": [
       "(5 rows affected)"
      ]
     },
     "metadata": {},
     "output_type": "display_data"
    }
   ],
   "source": [
    "#!sql-sql\n",
    "-- Garantir que o schema existe\n",
    "if not exists (select * from sys.schemas where name = 'sql008')\n",
    "    exec('create schema sql008');\n",
    "go\n",
    "\n",
    "-- Se a tabela já existir, elimina antes\n",
    "if object_id('sql008.Activity', 'U') is not null\n",
    "    drop table sql008.Activity;\n",
    "go\n",
    "\n",
    "-- Criação da tabela\n",
    "CREATE TABLE sql008.Activity (\n",
    "    player_id    INT NOT NULL,\n",
    "    device_id    INT NOT NULL,\n",
    "    event_date   DATE NOT NULL,\n",
    "    games_played INT NOT NULL,\n",
    "    CONSTRAINT PK_Activity PRIMARY KEY (player_id, event_date)\n",
    ");\n",
    "GO\n",
    "\n",
    "INSERT INTO sql008.Activity (player_id, device_id, event_date, games_played)\n",
    "VALUES\n",
    "(1, 2, '2016-03-01', 5),\n",
    "(1, 2, '2016-03-02', 6),\n",
    "(2, 3, '2017-06-25', 1),\n",
    "(3, 1, '2016-03-02', 0),\n",
    "(3, 4, '2018-07-03', 5);\n",
    "GO\n"
   ]
  },
  {
   "cell_type": "code",
   "execution_count": 5,
   "id": "a9d7371c",
   "metadata": {},
   "outputs": [
    {
     "data": {
      "text/plain": [
       "(5 rows affected)"
      ]
     },
     "metadata": {},
     "output_type": "display_data"
    },
    {
     "data": {
      "text/csv": [
       "player_id,device_id,event_date,games_played\r\n",
       "1,2,2016-03-01T00:00:00.0000000,5\r\n",
       "1,2,2016-03-02T00:00:00.0000000,6\r\n",
       "2,3,2017-06-25T00:00:00.0000000,1\r\n",
       "3,1,2016-03-02T00:00:00.0000000,0\r\n",
       "3,4,2018-07-03T00:00:00.0000000,5\r\n"
      ],
      "text/html": [
       "<table><thead><tr><td><span>player_id</span></td><td><span>device_id</span></td><td><span>event_date</span></td><td><span>games_played</span></td></tr></thead><tbody><tr><td><div class=\"dni-plaintext\"><pre>1</pre></div></td><td><div class=\"dni-plaintext\"><pre>2</pre></div></td><td><span>2016-03-01 00:00:00Z</span></td><td><div class=\"dni-plaintext\"><pre>5</pre></div></td></tr><tr><td><div class=\"dni-plaintext\"><pre>1</pre></div></td><td><div class=\"dni-plaintext\"><pre>2</pre></div></td><td><span>2016-03-02 00:00:00Z</span></td><td><div class=\"dni-plaintext\"><pre>6</pre></div></td></tr><tr><td><div class=\"dni-plaintext\"><pre>2</pre></div></td><td><div class=\"dni-plaintext\"><pre>3</pre></div></td><td><span>2017-06-25 00:00:00Z</span></td><td><div class=\"dni-plaintext\"><pre>1</pre></div></td></tr><tr><td><div class=\"dni-plaintext\"><pre>3</pre></div></td><td><div class=\"dni-plaintext\"><pre>1</pre></div></td><td><span>2016-03-02 00:00:00Z</span></td><td><div class=\"dni-plaintext\"><pre>0</pre></div></td></tr><tr><td><div class=\"dni-plaintext\"><pre>3</pre></div></td><td><div class=\"dni-plaintext\"><pre>4</pre></div></td><td><span>2018-07-03 00:00:00Z</span></td><td><div class=\"dni-plaintext\"><pre>5</pre></div></td></tr></tbody></table><style>\r\n",
       ".dni-code-hint {\r\n",
       "    font-style: italic;\r\n",
       "    overflow: hidden;\r\n",
       "    white-space: nowrap;\r\n",
       "}\r\n",
       ".dni-treeview {\r\n",
       "    white-space: nowrap;\r\n",
       "}\r\n",
       ".dni-treeview td {\r\n",
       "    vertical-align: top;\r\n",
       "    text-align: start;\r\n",
       "}\r\n",
       "details.dni-treeview {\r\n",
       "    padding-left: 1em;\r\n",
       "}\r\n",
       "table td {\r\n",
       "    text-align: start;\r\n",
       "}\r\n",
       "table tr { \r\n",
       "    vertical-align: top; \r\n",
       "    margin: 0em 0px;\r\n",
       "}\r\n",
       "table tr td pre \r\n",
       "{ \r\n",
       "    vertical-align: top !important; \r\n",
       "    margin: 0em 0px !important;\r\n",
       "} \r\n",
       "table th {\r\n",
       "    text-align: start;\r\n",
       "}\r\n",
       "</style>"
      ]
     },
     "metadata": {},
     "output_type": "display_data"
    }
   ],
   "source": [
    "#!sql-sql\n",
    "select * from sql008.Activity"
   ]
  },
  {
   "cell_type": "code",
   "execution_count": 8,
   "id": "c97a9452",
   "metadata": {},
   "outputs": [
    {
     "data": {
      "text/plain": [
       "(1 row affected)"
      ]
     },
     "metadata": {},
     "output_type": "display_data"
    },
    {
     "data": {
      "text/csv": [
       "fraction\r\n",
       "0.33\r\n"
      ],
      "text/html": [
       "<table><thead><tr><td><span>fraction</span></td></tr></thead><tbody><tr><td><div class=\"dni-plaintext\"><pre>0.33</pre></div></td></tr></tbody></table><style>\r\n",
       ".dni-code-hint {\r\n",
       "    font-style: italic;\r\n",
       "    overflow: hidden;\r\n",
       "    white-space: nowrap;\r\n",
       "}\r\n",
       ".dni-treeview {\r\n",
       "    white-space: nowrap;\r\n",
       "}\r\n",
       ".dni-treeview td {\r\n",
       "    vertical-align: top;\r\n",
       "    text-align: start;\r\n",
       "}\r\n",
       "details.dni-treeview {\r\n",
       "    padding-left: 1em;\r\n",
       "}\r\n",
       "table td {\r\n",
       "    text-align: start;\r\n",
       "}\r\n",
       "table tr { \r\n",
       "    vertical-align: top; \r\n",
       "    margin: 0em 0px;\r\n",
       "}\r\n",
       "table tr td pre \r\n",
       "{ \r\n",
       "    vertical-align: top !important; \r\n",
       "    margin: 0em 0px !important;\r\n",
       "} \r\n",
       "table th {\r\n",
       "    text-align: start;\r\n",
       "}\r\n",
       "</style>"
      ]
     },
     "metadata": {},
     "output_type": "display_data"
    }
   ],
   "source": [
    "#!sql-sql\n",
    "\n",
    "WITH ordered_logins AS (\n",
    "    SELECT \n",
    "        player_id,\n",
    "        event_date,\n",
    "        ROW_NUMBER() OVER (PARTITION BY player_id ORDER BY event_date ASC) AS rn\n",
    "    FROM sql008.Activity\n",
    "),\n",
    "first_login AS (\n",
    "    SELECT player_id, event_date AS first_date\n",
    "    FROM ordered_logins\n",
    "    WHERE rn = 1\n",
    "),\n",
    "next_day_login AS (\n",
    "    SELECT DISTINCT f.player_id\n",
    "    FROM first_login f\n",
    "    JOIN sql008.Activity a\n",
    "        ON a.player_id = f.player_id\n",
    "       AND a.event_date = DATEADD(DAY, 1, f.first_date)\n",
    ")\n",
    "SELECT \n",
    "    CAST(ROUND(\n",
    "        1.0 * \n",
    "        (SELECT COUNT(*) FROM next_day_login) /\n",
    "        (SELECT COUNT(DISTINCT player_id) FROM sql008.Activity),\n",
    "    2) AS DECIMAL(4,2)) AS fraction;\n"
   ]
  }
 ],
 "metadata": {
  "kernelspec": {
   "display_name": ".NET (C#)",
   "language": "C#",
   "name": ".net-csharp"
  },
  "language_info": {
   "name": "polyglot-notebook"
  },
  "polyglot_notebook": {
   "kernelInfo": {
    "defaultKernelName": "csharp",
    "items": [
     {
      "aliases": [],
      "name": "csharp"
     }
    ]
   }
  }
 },
 "nbformat": 4,
 "nbformat_minor": 5
}
