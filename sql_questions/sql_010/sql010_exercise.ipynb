{
 "cells": [
  {
   "cell_type": "code",
   "execution_count": 1,
   "id": "2ba4e1a7",
   "metadata": {},
   "outputs": [
    {
     "data": {
      "text/html": [
       "<div><div></div><div></div><div><strong>Installed Packages</strong><ul><li><span>Microsoft.DotNet.Interactive.SqlServer, 1.0.0-beta.25323.1</span></li></ul></div></div>"
      ]
     },
     "metadata": {},
     "output_type": "display_data"
    },
    {
     "data": {
      "text/plain": [
       "Loading extension script from `C:\\Users\\Pedro_Carvalho1\\.nuget\\packages\\microsoft.dotnet.interactive.sqlserver\\1.0.0-beta.25323.1\\interactive-extensions\\dotnet\\extension.dib`"
      ]
     },
     "metadata": {},
     "output_type": "display_data"
    },
    {
     "data": {
      "text/html": [
       "<details><summary>Query Microsoft SQL Server databases.</summary>\r\n",
       "<p>This extension adds support for connecting to Microsoft SQL Server databases using the <code>#!connect mssql</code> magic command. For more information, run a cell using the <code>#!sql</code> magic command.</p>\r\n",
       "</details>"
      ]
     },
     "metadata": {},
     "output_type": "display_data"
    }
   ],
   "source": [
    "#r \"nuget:Microsoft.DotNet.Interactive.SqlServer, *-*\""
   ]
  },
  {
   "cell_type": "code",
   "execution_count": 2,
   "id": "d39c4d3a",
   "metadata": {},
   "outputs": [],
   "source": [
    "using System.IO;\n",
    "\n",
    "var connStr = File.ReadAllText(@\"C:\\Users\\Pedro_Carvalho1\\conn_str.txt\");\n",
    "\n",
    "#!share --from csharp connStr"
   ]
  },
  {
   "cell_type": "code",
   "execution_count": 3,
   "id": "88708cc5",
   "metadata": {},
   "outputs": [
    {
     "data": {
      "text/plain": [
       "Kernel added: #!sql-sql"
      ]
     },
     "metadata": {},
     "output_type": "display_data"
    }
   ],
   "source": [
    "#!connect mssql --kernel-name sql --connection-string @connStr"
   ]
  },
  {
   "cell_type": "code",
   "execution_count": 13,
   "id": "654c6551",
   "metadata": {},
   "outputs": [
    {
     "data": {
      "text/plain": [
       "Commands completed successfully."
      ]
     },
     "metadata": {},
     "output_type": "display_data"
    },
    {
     "data": {
      "text/plain": [
       "Commands completed successfully."
      ]
     },
     "metadata": {},
     "output_type": "display_data"
    },
    {
     "data": {
      "text/plain": [
       "Commands completed successfully."
      ]
     },
     "metadata": {},
     "output_type": "display_data"
    },
    {
     "data": {
      "text/plain": [
       "(4 rows affected)"
      ]
     },
     "metadata": {},
     "output_type": "display_data"
    },
    {
     "data": {
      "text/plain": [
       "(6 rows affected)"
      ]
     },
     "metadata": {},
     "output_type": "display_data"
    },
    {
     "data": {
      "text/plain": [
       "(8 rows affected)"
      ]
     },
     "metadata": {},
     "output_type": "display_data"
    }
   ],
   "source": [
    "#!sql-sql\n",
    "\n",
    "-- DDL\n",
    "IF EXISTS (SELECT * FROM sys.schemas WHERE name = 'retail789')\n",
    "BEGIN\n",
    "    DROP TABLE retail789.SalesOrderDetail;\n",
    "    DROP TABLE retail789.SalesOrder;\n",
    "    DROP TABLE retail789.Customer;\n",
    "    DROP SCHEMA retail789;\n",
    "END\n",
    "GO\n",
    "\n",
    "CREATE SCHEMA retail789;\n",
    "GO\n",
    "\n",
    "-- Customer table\n",
    "CREATE TABLE retail789.Customer (\n",
    "    CustomerID INT IDENTITY(1,1) PRIMARY KEY,\n",
    "    CustomerName NVARCHAR(100) NOT NULL,\n",
    "    Email NVARCHAR(150) NULL,\n",
    "    CreatedDate DATE NOT NULL,\n",
    "    IsActive BIT NOT NULL DEFAULT 1\n",
    ");\n",
    "\n",
    "-- SalesOrder table\n",
    "CREATE TABLE retail789.SalesOrder (\n",
    "    OrderID INT IDENTITY(1,1) PRIMARY KEY,\n",
    "    CustomerID INT NOT NULL,\n",
    "    OrderDate DATE NOT NULL,\n",
    "    OrderStatus NVARCHAR(20) NOT NULL,\n",
    "    CONSTRAINT FK_SalesOrder_Customer FOREIGN KEY(CustomerID) REFERENCES retail789.Customer(CustomerID)\n",
    ");\n",
    "\n",
    "-- SalesOrderDetail table\n",
    "CREATE TABLE retail789.SalesOrderDetail (\n",
    "    OrderDetailID INT IDENTITY(1,1) PRIMARY KEY,\n",
    "    OrderID INT NOT NULL,\n",
    "    ProductName NVARCHAR(100) NOT NULL,\n",
    "    Quantity INT NOT NULL,\n",
    "    UnitPrice DECIMAL(10,2) NOT NULL,\n",
    "    CONSTRAINT FK_SalesOrderDetail_Order FOREIGN KEY(OrderID) REFERENCES retail789.SalesOrder(OrderID)\n",
    ");\n",
    "GO\n",
    "\n",
    "-- DML\n",
    "-- Insert customers\n",
    "INSERT INTO retail789.Customer (CustomerName, Email, CreatedDate, IsActive)\n",
    "VALUES\n",
    "('Alice Johnson', 'alice.j@example.com', '2025-01-10', 1),\n",
    "('Bob Smith', NULL, '2025-02-05', 1),\n",
    "('Charlie Lee', 'charlie.l@example.com', '2025-01-20', 0),\n",
    "('Diana Prince', 'diana.p@example.com', '2025-03-12', 1);\n",
    "\n",
    "-- Insert orders\n",
    "INSERT INTO retail789.SalesOrder (CustomerID, OrderDate, OrderStatus)\n",
    "VALUES\n",
    "(1, '2025-03-15', 'Completed'),\n",
    "(1, '2025-03-18', 'Pending'),\n",
    "(2, '2025-03-16', 'Completed'),\n",
    "(2, '2025-03-16', 'Completed'),  -- duplicate order date\n",
    "(3, '2025-03-17', 'Cancelled'),\n",
    "(4, '2025-03-19', 'Completed');\n",
    "\n",
    "-- Insert order details\n",
    "INSERT INTO retail789.SalesOrderDetail (OrderID, ProductName, Quantity, UnitPrice)\n",
    "VALUES\n",
    "(1, 'Laptop', 1, 1200.00),\n",
    "(1, 'Mouse', 2, 25.50),\n",
    "(2, 'Keyboard', 1, 45.00),\n",
    "(3, 'Monitor', 2, 200.00),\n",
    "(4, 'Monitor', 2, 200.00),  -- duplicate product/order\n",
    "(5, 'Laptop', 1, 1150.00),\n",
    "(6, 'Desk Chair', 1, 150.00),\n",
    "(6, 'Desk Chair', 1, 150.00); -- duplicate row\n",
    "\n",
    "-- Exercise\n",
    "/*\n",
    "Problem Statement:\n",
    "\n",
    "The client is a retail company and wants to analyze their customer order behavior. \n",
    "They require a report showing each customer's total number of orders, total quantity of products ordered, total sales amount, \n",
    "the date of their first order, and a flag indicating if they have any duplicate order entries.\n",
    "\n",
    "You need to handle:\n",
    "- Multiple orders per customer\n",
    "- Duplicate orders and duplicate products within orders\n",
    "- NULL emails for customers\n",
    "- Inactive customers should still appear\n",
    "- Orders with overlapping dates\n",
    "- Aggregate and window functions to identify duplicates and compute totals\n",
    "*/\n",
    "\n",
    "-- Expected Results\n",
    "/*\n",
    "| CustomerID | CustomerName   | TotalOrders | TotalQuantity | TotalSales | FirstOrderDate | HasDuplicateOrders |\n",
    "|------------|----------------|------------|---------------|------------|----------------|------------------|\n",
    "| 1          | Alice Johnson  | 2          | 4             | 1275.50    | 2025-03-15     | 0                |\n",
    "| 2          | Bob Smith      | 2          | 4             | 800.00     | 2025-03-16     | 1                |\n",
    "| 3          | Charlie Lee    | 1          | 1             | 1150.00    | 2025-03-17     | 0                |\n",
    "| 4          | Diana Prince   | 1          | 2             | 300.00     | 2025-03-19     | 1                |\n",
    "*/\n"
   ]
  }
 ],
 "metadata": {
  "kernelspec": {
   "display_name": ".NET (C#)",
   "language": "C#",
   "name": ".net-csharp"
  },
  "language_info": {
   "name": "polyglot-notebook"
  },
  "polyglot_notebook": {
   "kernelInfo": {
    "defaultKernelName": "csharp",
    "items": [
     {
      "aliases": [],
      "name": "csharp"
     }
    ]
   }
  }
 },
 "nbformat": 4,
 "nbformat_minor": 5
}
