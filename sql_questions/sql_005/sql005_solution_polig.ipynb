{
 "cells": [
  {
   "cell_type": "code",
   "execution_count": null,
   "id": "bf6e41f7",
   "metadata": {
    "language_info": {
     "name": "polyglot-notebook"
    },
    "polyglot_notebook": {
     "kernelName": "csharp"
    }
   },
   "outputs": [],
   "source": [
    "#r \"nuget:Microsoft.DotNet.Interactive.SqlServer, *-*\""
   ]
  },
  {
   "cell_type": "code",
   "execution_count": null,
   "metadata": {
    "language_info": {
     "name": "polyglot-notebook"
    },
    "polyglot_notebook": {
     "kernelName": "csharp"
    }
   },
   "outputs": [],
   "source": [
    "using System.IO;\n",
    "\n",
    "var connStr = File.ReadAllText(@\"C:\\Users\\Pedro_Carvalho1\\conn_str.txt\");\n",
    "\n",
    "#!share --from csharp connStr"
   ]
  },
  {
   "cell_type": "code",
   "execution_count": null,
   "id": "0497025d",
   "metadata": {
    "language_info": {
     "name": "polyglot-notebook"
    },
    "polyglot_notebook": {
     "kernelName": "csharp"
    }
   },
   "outputs": [],
   "source": [
    "#!connect mssql --kernel-name sqlstudy --connection-string @connStr"
   ]
  },
  {
   "cell_type": "code",
   "execution_count": 7,
   "id": "ca7e6c13",
   "metadata": {},
   "outputs": [
    {
     "data": {
      "text/plain": [
       "Commands completed successfully."
      ]
     },
     "metadata": {},
     "output_type": "display_data"
    },
    {
     "data": {
      "text/plain": [
       "Commands completed successfully."
      ]
     },
     "metadata": {},
     "output_type": "display_data"
    }
   ],
   "source": [
    "#!sql-sqlstudy\n",
    "IF OBJECT_ID('dbo.Employee', 'U') IS NOT NULL\n",
    "    DROP TABLE dbo.Employee;\n",
    "GO\n",
    "\n",
    "CREATE TABLE dbo.Employee (\n",
    "    id INT PRIMARY KEY,\n",
    "    name VARCHAR(100) NOT NULL,\n",
    "    department VARCHAR(50) NOT NULL,\n",
    "    managerId INT NULL\n",
    ");\n"
   ]
  },
  {
   "cell_type": "code",
   "execution_count": 9,
   "metadata": {
    "language_info": {
     "name": "polyglot-notebook"
    },
    "polyglot_notebook": {
     "kernelName": "csharp"
    }
   },
   "outputs": [
    {
     "data": {
      "text/plain": [
       "(6 rows affected)"
      ]
     },
     "metadata": {},
     "output_type": "display_data"
    }
   ],
   "source": [
    "#!sql-sqlstudy\n",
    "INSERT INTO dbo.Employee (id, name, department, managerId) VALUES\n",
    "(101, 'John',  'A', NULL),\n",
    "(102, 'Dan',   'A', 101),\n",
    "(103, 'James', 'A', 101),\n",
    "(104, 'Amy',   'A', 101),\n",
    "(105, 'Anne',  'A', 101),\n",
    "(106, 'Ron',   'B', 101);"
   ]
  },
  {
   "cell_type": "markdown",
   "id": "e485cbbc",
   "metadata": {},
   "source": [
    "##### Exercício"
   ]
  },
  {
   "cell_type": "code",
   "execution_count": null,
   "id": "b36394ed",
   "metadata": {
    "language_info": {
     "name": "polyglot-notebook"
    },
    "polyglot_notebook": {
     "kernelName": "csharp"
    }
   },
   "outputs": [],
   "source": [
    "570. Managers with at Least 5 Direct Reports\n",
    "\n",
    "+-------------+---------+\n",
    "| Column Name | Type    |\n",
    "+-------------+---------+\n",
    "| id          | int     |\n",
    "| name        | varchar |\n",
    "| department  | varchar |\n",
    "| managerId   | int     |\n",
    "+-------------+---------+\n",
    "\n",
    "id is the primary key (column with unique values) for this table.\n",
    "Each row of this table indicates the name of an employee, their department, and the id of their manager.\n",
    "If managerId is null, then the employee does not have a manager.\n",
    "No employee will be the manager of themself.\n",
    "\n",
    "\n",
    ">> QUESTION:\n",
    "Write a solution to find managers with at least five direct reports.\n",
    "Return the result table in any order.\n",
    "The result format is in the following example.\n",
    "\n",
    "Example 1:\n",
    "\n",
    "Input: \n",
    "Employee table:\n",
    "+-----+-------+------------+-----------+\n",
    "| id  | name  | department | managerId |\n",
    "+-----+-------+------------+-----------+\n",
    "| 101 | John  | A          | null      |\n",
    "| 102 | Dan   | A          | 101       |\n",
    "| 103 | James | A          | 101       |\n",
    "| 104 | Amy   | A          | 101       |\n",
    "| 105 | Anne  | A          | 101       |\n",
    "| 106 | Ron   | B          | 101       |\n",
    "+-----+-------+------------+-----------+\n",
    "\n",
    "Output: \n",
    "+------+\n",
    "| name |\n",
    "+------+\n",
    "| John |\n",
    "+------+\n"
   ]
  },
  {
   "cell_type": "code",
   "execution_count": null,
   "id": "3427c5c6",
   "metadata": {
    "language_info": {
     "name": "polyglot-notebook"
    },
    "polyglot_notebook": {
     "kernelName": "csharp"
    }
   },
   "outputs": [
    {
     "data": {
      "text/plain": [
       "(6 rows affected)"
      ]
     },
     "metadata": {},
     "output_type": "display_data"
    },
    {
     "data": {
      "text/plain": [
       "(5 rows affected)"
      ]
     },
     "metadata": {},
     "output_type": "display_data"
    },
    {
     "data": {
      "text/plain": [
       "(5 rows affected)"
      ]
     },
     "metadata": {},
     "output_type": "display_data"
    },
    {
     "data": {
      "text/plain": [
       "(1 row affected)"
      ]
     },
     "metadata": {},
     "output_type": "display_data"
    },
    {
     "data": {
      "text/csv": [
       "id,name,department,managerId\r\n",
       "101,John,A,\r\n",
       "102,Dan,A,101\r\n",
       "103,James,A,101\r\n",
       "104,Amy,A,101\r\n",
       "105,Anne,A,101\r\n",
       "106,Ron,B,101\r\n"
      ],
      "text/html": [
       "<table><thead><tr><td><span>id</span></td><td><span>name</span></td><td><span>department</span></td><td><span>managerId</span></td></tr></thead><tbody><tr><td><div class=\"dni-plaintext\"><pre>101</pre></div></td><td>John</td><td>A</td><td><div class=\"dni-plaintext\"><pre>&lt;null&gt;</pre></div></td></tr><tr><td><div class=\"dni-plaintext\"><pre>102</pre></div></td><td>Dan</td><td>A</td><td><div class=\"dni-plaintext\"><pre>101</pre></div></td></tr><tr><td><div class=\"dni-plaintext\"><pre>103</pre></div></td><td>James</td><td>A</td><td><div class=\"dni-plaintext\"><pre>101</pre></div></td></tr><tr><td><div class=\"dni-plaintext\"><pre>104</pre></div></td><td>Amy</td><td>A</td><td><div class=\"dni-plaintext\"><pre>101</pre></div></td></tr><tr><td><div class=\"dni-plaintext\"><pre>105</pre></div></td><td>Anne</td><td>A</td><td><div class=\"dni-plaintext\"><pre>101</pre></div></td></tr><tr><td><div class=\"dni-plaintext\"><pre>106</pre></div></td><td>Ron</td><td>B</td><td><div class=\"dni-plaintext\"><pre>101</pre></div></td></tr></tbody></table><style>\r\n",
       ".dni-code-hint {\r\n",
       "    font-style: italic;\r\n",
       "    overflow: hidden;\r\n",
       "    white-space: nowrap;\r\n",
       "}\r\n",
       ".dni-treeview {\r\n",
       "    white-space: nowrap;\r\n",
       "}\r\n",
       ".dni-treeview td {\r\n",
       "    vertical-align: top;\r\n",
       "    text-align: start;\r\n",
       "}\r\n",
       "details.dni-treeview {\r\n",
       "    padding-left: 1em;\r\n",
       "}\r\n",
       "table td {\r\n",
       "    text-align: start;\r\n",
       "}\r\n",
       "table tr { \r\n",
       "    vertical-align: top; \r\n",
       "    margin: 0em 0px;\r\n",
       "}\r\n",
       "table tr td pre \r\n",
       "{ \r\n",
       "    vertical-align: top !important; \r\n",
       "    margin: 0em 0px !important;\r\n",
       "} \r\n",
       "table th {\r\n",
       "    text-align: start;\r\n",
       "}\r\n",
       "</style>"
      ]
     },
     "metadata": {},
     "output_type": "display_data"
    },
    {
     "data": {
      "text/csv": [
       "id,name,department,managerId\r\n",
       "102,Dan,A,101\r\n",
       "103,James,A,101\r\n",
       "104,Amy,A,101\r\n",
       "105,Anne,A,101\r\n",
       "106,Ron,B,101\r\n"
      ],
      "text/html": [
       "<table><thead><tr><td><span>id</span></td><td><span>name</span></td><td><span>department</span></td><td><span>managerId</span></td></tr></thead><tbody><tr><td><div class=\"dni-plaintext\"><pre>102</pre></div></td><td>Dan</td><td>A</td><td><div class=\"dni-plaintext\"><pre>101</pre></div></td></tr><tr><td><div class=\"dni-plaintext\"><pre>103</pre></div></td><td>James</td><td>A</td><td><div class=\"dni-plaintext\"><pre>101</pre></div></td></tr><tr><td><div class=\"dni-plaintext\"><pre>104</pre></div></td><td>Amy</td><td>A</td><td><div class=\"dni-plaintext\"><pre>101</pre></div></td></tr><tr><td><div class=\"dni-plaintext\"><pre>105</pre></div></td><td>Anne</td><td>A</td><td><div class=\"dni-plaintext\"><pre>101</pre></div></td></tr><tr><td><div class=\"dni-plaintext\"><pre>106</pre></div></td><td>Ron</td><td>B</td><td><div class=\"dni-plaintext\"><pre>101</pre></div></td></tr></tbody></table><style>\r\n",
       ".dni-code-hint {\r\n",
       "    font-style: italic;\r\n",
       "    overflow: hidden;\r\n",
       "    white-space: nowrap;\r\n",
       "}\r\n",
       ".dni-treeview {\r\n",
       "    white-space: nowrap;\r\n",
       "}\r\n",
       ".dni-treeview td {\r\n",
       "    vertical-align: top;\r\n",
       "    text-align: start;\r\n",
       "}\r\n",
       "details.dni-treeview {\r\n",
       "    padding-left: 1em;\r\n",
       "}\r\n",
       "table td {\r\n",
       "    text-align: start;\r\n",
       "}\r\n",
       "table tr { \r\n",
       "    vertical-align: top; \r\n",
       "    margin: 0em 0px;\r\n",
       "}\r\n",
       "table tr td pre \r\n",
       "{ \r\n",
       "    vertical-align: top !important; \r\n",
       "    margin: 0em 0px !important;\r\n",
       "} \r\n",
       "table th {\r\n",
       "    text-align: start;\r\n",
       "}\r\n",
       "</style>"
      ]
     },
     "metadata": {},
     "output_type": "display_data"
    },
    {
     "data": {
      "text/csv": [
       "MANAGER_ID,MANGER_NAME,MANAGER_MANAGER_ID,ID,NAME,managerId\r\n",
       "101,John,,102,Dan,101\r\n",
       "101,John,,103,James,101\r\n",
       "101,John,,104,Amy,101\r\n",
       "101,John,,105,Anne,101\r\n",
       "101,John,,106,Ron,101\r\n"
      ],
      "text/html": [
       "<table><thead><tr><td><span>MANAGER_ID</span></td><td><span>MANGER_NAME</span></td><td><span>MANAGER_MANAGER_ID</span></td><td><span>ID</span></td><td><span>NAME</span></td><td><span>managerId</span></td></tr></thead><tbody><tr><td><div class=\"dni-plaintext\"><pre>101</pre></div></td><td>John</td><td><div class=\"dni-plaintext\"><pre>&lt;null&gt;</pre></div></td><td><div class=\"dni-plaintext\"><pre>102</pre></div></td><td>Dan</td><td><div class=\"dni-plaintext\"><pre>101</pre></div></td></tr><tr><td><div class=\"dni-plaintext\"><pre>101</pre></div></td><td>John</td><td><div class=\"dni-plaintext\"><pre>&lt;null&gt;</pre></div></td><td><div class=\"dni-plaintext\"><pre>103</pre></div></td><td>James</td><td><div class=\"dni-plaintext\"><pre>101</pre></div></td></tr><tr><td><div class=\"dni-plaintext\"><pre>101</pre></div></td><td>John</td><td><div class=\"dni-plaintext\"><pre>&lt;null&gt;</pre></div></td><td><div class=\"dni-plaintext\"><pre>104</pre></div></td><td>Amy</td><td><div class=\"dni-plaintext\"><pre>101</pre></div></td></tr><tr><td><div class=\"dni-plaintext\"><pre>101</pre></div></td><td>John</td><td><div class=\"dni-plaintext\"><pre>&lt;null&gt;</pre></div></td><td><div class=\"dni-plaintext\"><pre>105</pre></div></td><td>Anne</td><td><div class=\"dni-plaintext\"><pre>101</pre></div></td></tr><tr><td><div class=\"dni-plaintext\"><pre>101</pre></div></td><td>John</td><td><div class=\"dni-plaintext\"><pre>&lt;null&gt;</pre></div></td><td><div class=\"dni-plaintext\"><pre>106</pre></div></td><td>Ron</td><td><div class=\"dni-plaintext\"><pre>101</pre></div></td></tr></tbody></table><style>\r\n",
       ".dni-code-hint {\r\n",
       "    font-style: italic;\r\n",
       "    overflow: hidden;\r\n",
       "    white-space: nowrap;\r\n",
       "}\r\n",
       ".dni-treeview {\r\n",
       "    white-space: nowrap;\r\n",
       "}\r\n",
       ".dni-treeview td {\r\n",
       "    vertical-align: top;\r\n",
       "    text-align: start;\r\n",
       "}\r\n",
       "details.dni-treeview {\r\n",
       "    padding-left: 1em;\r\n",
       "}\r\n",
       "table td {\r\n",
       "    text-align: start;\r\n",
       "}\r\n",
       "table tr { \r\n",
       "    vertical-align: top; \r\n",
       "    margin: 0em 0px;\r\n",
       "}\r\n",
       "table tr td pre \r\n",
       "{ \r\n",
       "    vertical-align: top !important; \r\n",
       "    margin: 0em 0px !important;\r\n",
       "} \r\n",
       "table th {\r\n",
       "    text-align: start;\r\n",
       "}\r\n",
       "</style>"
      ]
     },
     "metadata": {},
     "output_type": "display_data"
    },
    {
     "data": {
      "text/csv": [
       "MANAGE_NAME,#MANAGES\r\n",
       "John,5\r\n"
      ],
      "text/html": [
       "<table><thead><tr><td><span>MANAGE_NAME</span></td><td><span>#MANAGES</span></td></tr></thead><tbody><tr><td>John</td><td><div class=\"dni-plaintext\"><pre>5</pre></div></td></tr></tbody></table><style>\r\n",
       ".dni-code-hint {\r\n",
       "    font-style: italic;\r\n",
       "    overflow: hidden;\r\n",
       "    white-space: nowrap;\r\n",
       "}\r\n",
       ".dni-treeview {\r\n",
       "    white-space: nowrap;\r\n",
       "}\r\n",
       ".dni-treeview td {\r\n",
       "    vertical-align: top;\r\n",
       "    text-align: start;\r\n",
       "}\r\n",
       "details.dni-treeview {\r\n",
       "    padding-left: 1em;\r\n",
       "}\r\n",
       "table td {\r\n",
       "    text-align: start;\r\n",
       "}\r\n",
       "table tr { \r\n",
       "    vertical-align: top; \r\n",
       "    margin: 0em 0px;\r\n",
       "}\r\n",
       "table tr td pre \r\n",
       "{ \r\n",
       "    vertical-align: top !important; \r\n",
       "    margin: 0em 0px !important;\r\n",
       "} \r\n",
       "table th {\r\n",
       "    text-align: start;\r\n",
       "}\r\n",
       "</style>"
      ]
     },
     "metadata": {},
     "output_type": "display_data"
    }
   ],
   "source": [
    "#!sql-sqlstudy\n",
    "-- Ver todos os registros\n",
    "SELECT * FROM dbo.Employee;\n",
    "\n",
    "-- Ver subordinados de John (id 101)\n",
    "SELECT * FROM dbo.Employee WHERE managerId = 101;\n",
    "\n",
    "-- exercicio::\n",
    "\n",
    "-- Write a solution to find managers with at least five direct reports.\n",
    "-- Return the result table in any order.\n",
    "-- The result format is in the following example.\n",
    "\n",
    "-- VISAO GERAL DO INNER JOIN\n",
    "SELECT \n",
    "    MANAG.ID AS MANAGER_ID, MANAG.NAME AS MANGER_NAME, MANAG.managerId AS MANAGER_MANAGER_ID,\n",
    "    EMP.ID, EMP.NAME, EMP.managerId\n",
    "FROM dbo.Employee MANAG\n",
    "INNER JOIN dbo.Employee EMP ON MANAG.id = EMP.managerId\n",
    "\n",
    "-- RESOLVENDO COM AGREGACAO SIMPLES\n",
    "SELECT\n",
    "    MANAG.NAME AS MANAGE_NAME,\n",
    "    COUNT(*) AS #MANAGES\n",
    "FROM dbo.Employee MANAG\n",
    "INNER JOIN dbo.Employee EMP ON MANAG.id = EMP.managerId\n",
    "GROUP BY MANAG.ID, MANAG.NAME\n",
    "HAVING COUNT(*) > 4\n"
   ]
  },
  {
   "cell_type": "code",
   "execution_count": null,
   "metadata": {
    "language_info": {
     "name": "polyglot-notebook"
    },
    "polyglot_notebook": {
     "kernelName": "csharp"
    }
   },
   "outputs": [
    {
     "data": {
      "text/plain": [
       "(5 rows affected)"
      ]
     },
     "metadata": {},
     "output_type": "display_data"
    },
    {
     "data": {
      "text/plain": [
       "(10 rows affected)"
      ]
     },
     "metadata": {},
     "output_type": "display_data"
    },
    {
     "data": {
      "text/csv": [
       "MANAGER_ID,MANGER_NAME,MANAGER_MANAGER_ID,ID,NAME,managerId\r\n",
       "101,John,,102,Dan,101\r\n",
       "101,John,,103,James,101\r\n",
       "101,John,,104,Amy,101\r\n",
       "101,John,,105,Anne,101\r\n",
       "101,John,,106,Ron,101\r\n"
      ],
      "text/html": [
       "<table><thead><tr><td><span>MANAGER_ID</span></td><td><span>MANGER_NAME</span></td><td><span>MANAGER_MANAGER_ID</span></td><td><span>ID</span></td><td><span>NAME</span></td><td><span>managerId</span></td></tr></thead><tbody><tr><td><div class=\"dni-plaintext\"><pre>101</pre></div></td><td>John</td><td><div class=\"dni-plaintext\"><pre>&lt;null&gt;</pre></div></td><td><div class=\"dni-plaintext\"><pre>102</pre></div></td><td>Dan</td><td><div class=\"dni-plaintext\"><pre>101</pre></div></td></tr><tr><td><div class=\"dni-plaintext\"><pre>101</pre></div></td><td>John</td><td><div class=\"dni-plaintext\"><pre>&lt;null&gt;</pre></div></td><td><div class=\"dni-plaintext\"><pre>103</pre></div></td><td>James</td><td><div class=\"dni-plaintext\"><pre>101</pre></div></td></tr><tr><td><div class=\"dni-plaintext\"><pre>101</pre></div></td><td>John</td><td><div class=\"dni-plaintext\"><pre>&lt;null&gt;</pre></div></td><td><div class=\"dni-plaintext\"><pre>104</pre></div></td><td>Amy</td><td><div class=\"dni-plaintext\"><pre>101</pre></div></td></tr><tr><td><div class=\"dni-plaintext\"><pre>101</pre></div></td><td>John</td><td><div class=\"dni-plaintext\"><pre>&lt;null&gt;</pre></div></td><td><div class=\"dni-plaintext\"><pre>105</pre></div></td><td>Anne</td><td><div class=\"dni-plaintext\"><pre>101</pre></div></td></tr><tr><td><div class=\"dni-plaintext\"><pre>101</pre></div></td><td>John</td><td><div class=\"dni-plaintext\"><pre>&lt;null&gt;</pre></div></td><td><div class=\"dni-plaintext\"><pre>106</pre></div></td><td>Ron</td><td><div class=\"dni-plaintext\"><pre>101</pre></div></td></tr></tbody></table><style>\r\n",
       ".dni-code-hint {\r\n",
       "    font-style: italic;\r\n",
       "    overflow: hidden;\r\n",
       "    white-space: nowrap;\r\n",
       "}\r\n",
       ".dni-treeview {\r\n",
       "    white-space: nowrap;\r\n",
       "}\r\n",
       ".dni-treeview td {\r\n",
       "    vertical-align: top;\r\n",
       "    text-align: start;\r\n",
       "}\r\n",
       "details.dni-treeview {\r\n",
       "    padding-left: 1em;\r\n",
       "}\r\n",
       "table td {\r\n",
       "    text-align: start;\r\n",
       "}\r\n",
       "table tr { \r\n",
       "    vertical-align: top; \r\n",
       "    margin: 0em 0px;\r\n",
       "}\r\n",
       "table tr td pre \r\n",
       "{ \r\n",
       "    vertical-align: top !important; \r\n",
       "    margin: 0em 0px !important;\r\n",
       "} \r\n",
       "table th {\r\n",
       "    text-align: start;\r\n",
       "}\r\n",
       "</style>"
      ]
     },
     "metadata": {},
     "output_type": "display_data"
    },
    {
     "data": {
      "text/csv": [
       "MANAGER_ID,MANGER_NAME,MANAGER_MANAGER_ID,ID,NAME,managerId\r\n",
       "101,John,,102,Dan,101\r\n",
       "101,John,,103,James,101\r\n",
       "101,John,,104,Amy,101\r\n",
       "101,John,,105,Anne,101\r\n",
       "101,John,,106,Ron,101\r\n",
       "102,Dan,101,,,\r\n",
       "103,James,101,,,\r\n",
       "104,Amy,101,,,\r\n",
       "105,Anne,101,,,\r\n",
       "106,Ron,101,,,\r\n"
      ],
      "text/html": [
       "<table><thead><tr><td><span>MANAGER_ID</span></td><td><span>MANGER_NAME</span></td><td><span>MANAGER_MANAGER_ID</span></td><td><span>ID</span></td><td><span>NAME</span></td><td><span>managerId</span></td></tr></thead><tbody><tr><td><div class=\"dni-plaintext\"><pre>101</pre></div></td><td>John</td><td><div class=\"dni-plaintext\"><pre>&lt;null&gt;</pre></div></td><td><div class=\"dni-plaintext\"><pre>102</pre></div></td><td>Dan</td><td><div class=\"dni-plaintext\"><pre>101</pre></div></td></tr><tr><td><div class=\"dni-plaintext\"><pre>101</pre></div></td><td>John</td><td><div class=\"dni-plaintext\"><pre>&lt;null&gt;</pre></div></td><td><div class=\"dni-plaintext\"><pre>103</pre></div></td><td>James</td><td><div class=\"dni-plaintext\"><pre>101</pre></div></td></tr><tr><td><div class=\"dni-plaintext\"><pre>101</pre></div></td><td>John</td><td><div class=\"dni-plaintext\"><pre>&lt;null&gt;</pre></div></td><td><div class=\"dni-plaintext\"><pre>104</pre></div></td><td>Amy</td><td><div class=\"dni-plaintext\"><pre>101</pre></div></td></tr><tr><td><div class=\"dni-plaintext\"><pre>101</pre></div></td><td>John</td><td><div class=\"dni-plaintext\"><pre>&lt;null&gt;</pre></div></td><td><div class=\"dni-plaintext\"><pre>105</pre></div></td><td>Anne</td><td><div class=\"dni-plaintext\"><pre>101</pre></div></td></tr><tr><td><div class=\"dni-plaintext\"><pre>101</pre></div></td><td>John</td><td><div class=\"dni-plaintext\"><pre>&lt;null&gt;</pre></div></td><td><div class=\"dni-plaintext\"><pre>106</pre></div></td><td>Ron</td><td><div class=\"dni-plaintext\"><pre>101</pre></div></td></tr><tr><td><div class=\"dni-plaintext\"><pre>102</pre></div></td><td>Dan</td><td><div class=\"dni-plaintext\"><pre>101</pre></div></td><td><div class=\"dni-plaintext\"><pre>&lt;null&gt;</pre></div></td><td><div class=\"dni-plaintext\"><pre>&lt;null&gt;</pre></div></td><td><div class=\"dni-plaintext\"><pre>&lt;null&gt;</pre></div></td></tr><tr><td><div class=\"dni-plaintext\"><pre>103</pre></div></td><td>James</td><td><div class=\"dni-plaintext\"><pre>101</pre></div></td><td><div class=\"dni-plaintext\"><pre>&lt;null&gt;</pre></div></td><td><div class=\"dni-plaintext\"><pre>&lt;null&gt;</pre></div></td><td><div class=\"dni-plaintext\"><pre>&lt;null&gt;</pre></div></td></tr><tr><td><div class=\"dni-plaintext\"><pre>104</pre></div></td><td>Amy</td><td><div class=\"dni-plaintext\"><pre>101</pre></div></td><td><div class=\"dni-plaintext\"><pre>&lt;null&gt;</pre></div></td><td><div class=\"dni-plaintext\"><pre>&lt;null&gt;</pre></div></td><td><div class=\"dni-plaintext\"><pre>&lt;null&gt;</pre></div></td></tr><tr><td><div class=\"dni-plaintext\"><pre>105</pre></div></td><td>Anne</td><td><div class=\"dni-plaintext\"><pre>101</pre></div></td><td><div class=\"dni-plaintext\"><pre>&lt;null&gt;</pre></div></td><td><div class=\"dni-plaintext\"><pre>&lt;null&gt;</pre></div></td><td><div class=\"dni-plaintext\"><pre>&lt;null&gt;</pre></div></td></tr><tr><td><div class=\"dni-plaintext\"><pre>106</pre></div></td><td>Ron</td><td><div class=\"dni-plaintext\"><pre>101</pre></div></td><td><div class=\"dni-plaintext\"><pre>&lt;null&gt;</pre></div></td><td><div class=\"dni-plaintext\"><pre>&lt;null&gt;</pre></div></td><td><div class=\"dni-plaintext\"><pre>&lt;null&gt;</pre></div></td></tr></tbody></table><style>\r\n",
       ".dni-code-hint {\r\n",
       "    font-style: italic;\r\n",
       "    overflow: hidden;\r\n",
       "    white-space: nowrap;\r\n",
       "}\r\n",
       ".dni-treeview {\r\n",
       "    white-space: nowrap;\r\n",
       "}\r\n",
       ".dni-treeview td {\r\n",
       "    vertical-align: top;\r\n",
       "    text-align: start;\r\n",
       "}\r\n",
       "details.dni-treeview {\r\n",
       "    padding-left: 1em;\r\n",
       "}\r\n",
       "table td {\r\n",
       "    text-align: start;\r\n",
       "}\r\n",
       "table tr { \r\n",
       "    vertical-align: top; \r\n",
       "    margin: 0em 0px;\r\n",
       "}\r\n",
       "table tr td pre \r\n",
       "{ \r\n",
       "    vertical-align: top !important; \r\n",
       "    margin: 0em 0px !important;\r\n",
       "} \r\n",
       "table th {\r\n",
       "    text-align: start;\r\n",
       "}\r\n",
       "</style>"
      ]
     },
     "metadata": {},
     "output_type": "display_data"
    }
   ],
   "source": [
    "#!sql-sqlstudy\n",
    "-- VISAO GERAL DO INNER JOIN\n",
    "SELECT \n",
    "    MANAG.ID AS MANAGER_ID, MANAG.NAME AS MANGER_NAME, MANAG.managerId AS MANAGER_MANAGER_ID,\n",
    "    EMP.ID, EMP.NAME, EMP.managerId\n",
    "FROM dbo.Employee MANAG\n",
    "INNER JOIN dbo.Employee EMP ON MANAG.id = EMP.managerId\n",
    "\n",
    "-- VISAO GERAL, COM LEFT JOIN\n",
    "SELECT \n",
    "    MANAG.ID AS MANAGER_ID, MANAG.NAME AS MANGER_NAME, MANAG.managerId AS MANAGER_MANAGER_ID,\n",
    "    EMP.ID, EMP.NAME, EMP.managerId\n",
    "FROM dbo.Employee MANAG\n",
    "left JOIN dbo.Employee EMP ON MANAG.id = EMP.managerId\n",
    "\n",
    "-- EXPLICANDO::\n",
    "-- PERCEBA QUE NO > LEFT < JOIN A TABELA QUE CHAMAMOS DE \"dbo.Employee MANAG\", QUE EH A TABELA QUE COMPOE AS 3 PRIMEIRAS COLUNAS\n",
    "-- DA ESQUERDA PARA A DIREITA, MOSTRA VARIAS LINHAS AONDE AS COLUNAS 4 , 5 E 6 ESTAO COMO NULL\n",
    "-- ISSO PORQUE NAO EXISTE NENHUMA COMBINACAO POSSIVEL DE ACORDO COM A REGRA DO LEFT JOIN, QUE EH \n",
    "-- \"left JOIN dbo.Employee EMP ON MANAG.id = EMP.managerId\", OU SEJA, PEGA A MINHA TABELA INICIAL DA ESQUERDA, dbo.Employee MANAG, \n",
    "-- E LEFT JOIN NA TABELA DA DIREITA, dbo.Employee EMP, ONDE MANAG.id = EMP.managerId\n",
    "-- LOGO, NAO EXISTEM, NA TABELA DA DIREITA, NENHUM RESULTADO ONDE MANAG.id SEJA IGUAL A EMP.managerId\n",
    "-- POR ISSO AS COLUNAS 4, 5 E 6 FICAM EM NULL\n",
    "\n",
    "-- E TAMBEM EH POR ISSO QUE, SE USARMOS O INNER JOIN ESSAS LINHAS DESAPARECEM\n",
    "-- PORQUE NO INNER JOIN RETORNA APENAS LINHAS QUE DEEM MATCH EM AMBAS TABELAS\n",
    "\n"
   ]
  },
  {
   "cell_type": "code",
   "execution_count": 33,
   "metadata": {
    "language_info": {
     "name": "polyglot-notebook"
    },
    "polyglot_notebook": {
     "kernelName": "csharp"
    }
   },
   "outputs": [
    {
     "data": {
      "text/plain": [
       "(6 rows affected)"
      ]
     },
     "metadata": {},
     "output_type": "display_data"
    }
   ],
   "source": [
    "#!sql-sqlstudy\n",
    "-- agora vamos incrementar a tabela com mais linhas e ver o novo resultado\n",
    "INSERT INTO dbo.Employee (id, name, department, managerId) VALUES\n",
    "(111, 'John',  'A', NULL),\n",
    "(112, 'Dan',   'A', 111),\n",
    "(113, 'James', 'A', 111),\n",
    "(114, 'Amy',   'A', 111),\n",
    "(115, 'Anne',  'A', 111),\n",
    "(116, 'Ron',   'B', 111);\n"
   ]
  },
  {
   "cell_type": "code",
   "execution_count": 37,
   "metadata": {
    "language_info": {
     "name": "polyglot-notebook"
    },
    "polyglot_notebook": {
     "kernelName": "csharp"
    }
   },
   "outputs": [
    {
     "data": {
      "text/plain": [
       "(20 rows affected)"
      ]
     },
     "metadata": {},
     "output_type": "display_data"
    },
    {
     "data": {
      "text/plain": [
       "(2 rows affected)"
      ]
     },
     "metadata": {},
     "output_type": "display_data"
    },
    {
     "data": {
      "text/csv": [
       "MANAGER_ID,MANGER_NAME,MANAGER_MANAGER_ID,ID,NAME,managerId\r\n",
       "101,John,,102,Dan,101\r\n",
       "101,John,,103,James,101\r\n",
       "101,John,,104,Amy,101\r\n",
       "101,John,,105,Anne,101\r\n",
       "101,John,,106,Ron,101\r\n",
       "102,Dan,101,,,\r\n",
       "103,James,101,,,\r\n",
       "104,Amy,101,,,\r\n",
       "105,Anne,101,,,\r\n",
       "106,Ron,101,,,\r\n",
       "111,John,,112,Dan,111\r\n",
       "111,John,,113,James,111\r\n",
       "111,John,,114,Amy,111\r\n",
       "111,John,,115,Anne,111\r\n",
       "111,John,,116,Ron,111\r\n",
       "112,Dan,111,,,\r\n",
       "113,James,111,,,\r\n",
       "114,Amy,111,,,\r\n",
       "115,Anne,111,,,\r\n",
       "116,Ron,111,,,\r\n"
      ],
      "text/html": [
       "<table><thead><tr><td><span>MANAGER_ID</span></td><td><span>MANGER_NAME</span></td><td><span>MANAGER_MANAGER_ID</span></td><td><span>ID</span></td><td><span>NAME</span></td><td><span>managerId</span></td></tr></thead><tbody><tr><td><div class=\"dni-plaintext\"><pre>101</pre></div></td><td>John</td><td><div class=\"dni-plaintext\"><pre>&lt;null&gt;</pre></div></td><td><div class=\"dni-plaintext\"><pre>102</pre></div></td><td>Dan</td><td><div class=\"dni-plaintext\"><pre>101</pre></div></td></tr><tr><td><div class=\"dni-plaintext\"><pre>101</pre></div></td><td>John</td><td><div class=\"dni-plaintext\"><pre>&lt;null&gt;</pre></div></td><td><div class=\"dni-plaintext\"><pre>103</pre></div></td><td>James</td><td><div class=\"dni-plaintext\"><pre>101</pre></div></td></tr><tr><td><div class=\"dni-plaintext\"><pre>101</pre></div></td><td>John</td><td><div class=\"dni-plaintext\"><pre>&lt;null&gt;</pre></div></td><td><div class=\"dni-plaintext\"><pre>104</pre></div></td><td>Amy</td><td><div class=\"dni-plaintext\"><pre>101</pre></div></td></tr><tr><td><div class=\"dni-plaintext\"><pre>101</pre></div></td><td>John</td><td><div class=\"dni-plaintext\"><pre>&lt;null&gt;</pre></div></td><td><div class=\"dni-plaintext\"><pre>105</pre></div></td><td>Anne</td><td><div class=\"dni-plaintext\"><pre>101</pre></div></td></tr><tr><td><div class=\"dni-plaintext\"><pre>101</pre></div></td><td>John</td><td><div class=\"dni-plaintext\"><pre>&lt;null&gt;</pre></div></td><td><div class=\"dni-plaintext\"><pre>106</pre></div></td><td>Ron</td><td><div class=\"dni-plaintext\"><pre>101</pre></div></td></tr><tr><td><div class=\"dni-plaintext\"><pre>102</pre></div></td><td>Dan</td><td><div class=\"dni-plaintext\"><pre>101</pre></div></td><td><div class=\"dni-plaintext\"><pre>&lt;null&gt;</pre></div></td><td><div class=\"dni-plaintext\"><pre>&lt;null&gt;</pre></div></td><td><div class=\"dni-plaintext\"><pre>&lt;null&gt;</pre></div></td></tr><tr><td><div class=\"dni-plaintext\"><pre>103</pre></div></td><td>James</td><td><div class=\"dni-plaintext\"><pre>101</pre></div></td><td><div class=\"dni-plaintext\"><pre>&lt;null&gt;</pre></div></td><td><div class=\"dni-plaintext\"><pre>&lt;null&gt;</pre></div></td><td><div class=\"dni-plaintext\"><pre>&lt;null&gt;</pre></div></td></tr><tr><td><div class=\"dni-plaintext\"><pre>104</pre></div></td><td>Amy</td><td><div class=\"dni-plaintext\"><pre>101</pre></div></td><td><div class=\"dni-plaintext\"><pre>&lt;null&gt;</pre></div></td><td><div class=\"dni-plaintext\"><pre>&lt;null&gt;</pre></div></td><td><div class=\"dni-plaintext\"><pre>&lt;null&gt;</pre></div></td></tr><tr><td><div class=\"dni-plaintext\"><pre>105</pre></div></td><td>Anne</td><td><div class=\"dni-plaintext\"><pre>101</pre></div></td><td><div class=\"dni-plaintext\"><pre>&lt;null&gt;</pre></div></td><td><div class=\"dni-plaintext\"><pre>&lt;null&gt;</pre></div></td><td><div class=\"dni-plaintext\"><pre>&lt;null&gt;</pre></div></td></tr><tr><td><div class=\"dni-plaintext\"><pre>106</pre></div></td><td>Ron</td><td><div class=\"dni-plaintext\"><pre>101</pre></div></td><td><div class=\"dni-plaintext\"><pre>&lt;null&gt;</pre></div></td><td><div class=\"dni-plaintext\"><pre>&lt;null&gt;</pre></div></td><td><div class=\"dni-plaintext\"><pre>&lt;null&gt;</pre></div></td></tr><tr><td><div class=\"dni-plaintext\"><pre>111</pre></div></td><td>John</td><td><div class=\"dni-plaintext\"><pre>&lt;null&gt;</pre></div></td><td><div class=\"dni-plaintext\"><pre>112</pre></div></td><td>Dan</td><td><div class=\"dni-plaintext\"><pre>111</pre></div></td></tr><tr><td><div class=\"dni-plaintext\"><pre>111</pre></div></td><td>John</td><td><div class=\"dni-plaintext\"><pre>&lt;null&gt;</pre></div></td><td><div class=\"dni-plaintext\"><pre>113</pre></div></td><td>James</td><td><div class=\"dni-plaintext\"><pre>111</pre></div></td></tr><tr><td><div class=\"dni-plaintext\"><pre>111</pre></div></td><td>John</td><td><div class=\"dni-plaintext\"><pre>&lt;null&gt;</pre></div></td><td><div class=\"dni-plaintext\"><pre>114</pre></div></td><td>Amy</td><td><div class=\"dni-plaintext\"><pre>111</pre></div></td></tr><tr><td><div class=\"dni-plaintext\"><pre>111</pre></div></td><td>John</td><td><div class=\"dni-plaintext\"><pre>&lt;null&gt;</pre></div></td><td><div class=\"dni-plaintext\"><pre>115</pre></div></td><td>Anne</td><td><div class=\"dni-plaintext\"><pre>111</pre></div></td></tr><tr><td><div class=\"dni-plaintext\"><pre>111</pre></div></td><td>John</td><td><div class=\"dni-plaintext\"><pre>&lt;null&gt;</pre></div></td><td><div class=\"dni-plaintext\"><pre>116</pre></div></td><td>Ron</td><td><div class=\"dni-plaintext\"><pre>111</pre></div></td></tr><tr><td><div class=\"dni-plaintext\"><pre>112</pre></div></td><td>Dan</td><td><div class=\"dni-plaintext\"><pre>111</pre></div></td><td><div class=\"dni-plaintext\"><pre>&lt;null&gt;</pre></div></td><td><div class=\"dni-plaintext\"><pre>&lt;null&gt;</pre></div></td><td><div class=\"dni-plaintext\"><pre>&lt;null&gt;</pre></div></td></tr><tr><td><div class=\"dni-plaintext\"><pre>113</pre></div></td><td>James</td><td><div class=\"dni-plaintext\"><pre>111</pre></div></td><td><div class=\"dni-plaintext\"><pre>&lt;null&gt;</pre></div></td><td><div class=\"dni-plaintext\"><pre>&lt;null&gt;</pre></div></td><td><div class=\"dni-plaintext\"><pre>&lt;null&gt;</pre></div></td></tr><tr><td><div class=\"dni-plaintext\"><pre>114</pre></div></td><td>Amy</td><td><div class=\"dni-plaintext\"><pre>111</pre></div></td><td><div class=\"dni-plaintext\"><pre>&lt;null&gt;</pre></div></td><td><div class=\"dni-plaintext\"><pre>&lt;null&gt;</pre></div></td><td><div class=\"dni-plaintext\"><pre>&lt;null&gt;</pre></div></td></tr><tr><td><div class=\"dni-plaintext\"><pre>115</pre></div></td><td>Anne</td><td><div class=\"dni-plaintext\"><pre>111</pre></div></td><td><div class=\"dni-plaintext\"><pre>&lt;null&gt;</pre></div></td><td><div class=\"dni-plaintext\"><pre>&lt;null&gt;</pre></div></td><td><div class=\"dni-plaintext\"><pre>&lt;null&gt;</pre></div></td></tr><tr><td><div class=\"dni-plaintext\"><pre>116</pre></div></td><td>Ron</td><td><div class=\"dni-plaintext\"><pre>111</pre></div></td><td><div class=\"dni-plaintext\"><pre>&lt;null&gt;</pre></div></td><td><div class=\"dni-plaintext\"><pre>&lt;null&gt;</pre></div></td><td><div class=\"dni-plaintext\"><pre>&lt;null&gt;</pre></div></td></tr></tbody></table><style>\r\n",
       ".dni-code-hint {\r\n",
       "    font-style: italic;\r\n",
       "    overflow: hidden;\r\n",
       "    white-space: nowrap;\r\n",
       "}\r\n",
       ".dni-treeview {\r\n",
       "    white-space: nowrap;\r\n",
       "}\r\n",
       ".dni-treeview td {\r\n",
       "    vertical-align: top;\r\n",
       "    text-align: start;\r\n",
       "}\r\n",
       "details.dni-treeview {\r\n",
       "    padding-left: 1em;\r\n",
       "}\r\n",
       "table td {\r\n",
       "    text-align: start;\r\n",
       "}\r\n",
       "table tr { \r\n",
       "    vertical-align: top; \r\n",
       "    margin: 0em 0px;\r\n",
       "}\r\n",
       "table tr td pre \r\n",
       "{ \r\n",
       "    vertical-align: top !important; \r\n",
       "    margin: 0em 0px !important;\r\n",
       "} \r\n",
       "table th {\r\n",
       "    text-align: start;\r\n",
       "}\r\n",
       "</style>"
      ]
     },
     "metadata": {},
     "output_type": "display_data"
    },
    {
     "data": {
      "text/csv": [
       "MANAGE_NAME,#MANAGES\r\n",
       "John,5\r\n",
       "John,5\r\n"
      ],
      "text/html": [
       "<table><thead><tr><td><span>MANAGE_NAME</span></td><td><span>#MANAGES</span></td></tr></thead><tbody><tr><td>John</td><td><div class=\"dni-plaintext\"><pre>5</pre></div></td></tr><tr><td>John</td><td><div class=\"dni-plaintext\"><pre>5</pre></div></td></tr></tbody></table><style>\r\n",
       ".dni-code-hint {\r\n",
       "    font-style: italic;\r\n",
       "    overflow: hidden;\r\n",
       "    white-space: nowrap;\r\n",
       "}\r\n",
       ".dni-treeview {\r\n",
       "    white-space: nowrap;\r\n",
       "}\r\n",
       ".dni-treeview td {\r\n",
       "    vertical-align: top;\r\n",
       "    text-align: start;\r\n",
       "}\r\n",
       "details.dni-treeview {\r\n",
       "    padding-left: 1em;\r\n",
       "}\r\n",
       "table td {\r\n",
       "    text-align: start;\r\n",
       "}\r\n",
       "table tr { \r\n",
       "    vertical-align: top; \r\n",
       "    margin: 0em 0px;\r\n",
       "}\r\n",
       "table tr td pre \r\n",
       "{ \r\n",
       "    vertical-align: top !important; \r\n",
       "    margin: 0em 0px !important;\r\n",
       "} \r\n",
       "table th {\r\n",
       "    text-align: start;\r\n",
       "}\r\n",
       "</style>"
      ]
     },
     "metadata": {},
     "output_type": "display_data"
    }
   ],
   "source": [
    "#!sql-sqlstudy\n",
    "-- VISAO GERAL, COM LEFT JOIN\n",
    "SELECT \n",
    "    MANAG.ID AS MANAGER_ID, MANAG.NAME AS MANGER_NAME, MANAG.managerId AS MANAGER_MANAGER_ID,\n",
    "    EMP.ID, EMP.NAME, EMP.managerId\n",
    "FROM dbo.Employee MANAG\n",
    "left JOIN dbo.Employee EMP ON MANAG.id = EMP.managerId\n",
    "ORDER BY MANAG.ID, MANAG.NAME\n",
    "\n",
    "-- RESOLVENDO COM AGREGACAO SIMPLES\n",
    "SELECT\n",
    "    MANAG.NAME AS MANAGE_NAME,\n",
    "    COUNT(*) AS #MANAGES\n",
    "FROM dbo.Employee MANAG\n",
    "INNER JOIN dbo.Employee EMP ON MANAG.id = EMP.managerId\n",
    "GROUP BY MANAG.ID, MANAG.NAME\n",
    "HAVING COUNT(*) > 4"
   ]
  },
  {
   "cell_type": "code",
   "execution_count": 39,
   "metadata": {
    "language_info": {
     "name": "polyglot-notebook"
    },
    "polyglot_notebook": {
     "kernelName": "csharp"
    }
   },
   "outputs": [
    {
     "data": {
      "text/plain": [
       "Commands completed successfully."
      ]
     },
     "metadata": {},
     "output_type": "display_data"
    },
    {
     "data": {
      "text/plain": [
       "(6 rows affected)"
      ]
     },
     "metadata": {},
     "output_type": "display_data"
    }
   ],
   "source": [
    "#!sql-sqlstudy\n",
    "-- agora vamos incrementar a tabela com mais linhas e ver o novo resultado\n",
    "ALTER TABLE dbo.Employee\n",
    "ALTER COLUMN name VARCHAR(100) NULL;\n",
    "GO\n",
    "\n",
    "INSERT INTO dbo.Employee (id, name, department, managerId) VALUES\n",
    "(201, NULL, 'A', NULL),\n",
    "(202, NULL, 'A', 201),\n",
    "(203, NULL, 'A', 201),\n",
    "(204, NULL, 'A', 201),\n",
    "(205, NULL, 'A', 201),\n",
    "(206, NULL, 'B', 201);\n",
    "\n"
   ]
  },
  {
   "cell_type": "code",
   "execution_count": 41,
   "metadata": {
    "language_info": {
     "name": "polyglot-notebook"
    },
    "polyglot_notebook": {
     "kernelName": "csharp"
    }
   },
   "outputs": [
    {
     "data": {
      "text/plain": [
       "(30 rows affected)"
      ]
     },
     "metadata": {},
     "output_type": "display_data"
    },
    {
     "data": {
      "text/plain": [
       "(15 rows affected)"
      ]
     },
     "metadata": {},
     "output_type": "display_data"
    },
    {
     "data": {
      "text/plain": [
       "(3 rows affected)"
      ]
     },
     "metadata": {},
     "output_type": "display_data"
    },
    {
     "data": {
      "text/csv": [
       "MANAGER_ID,MANGER_NAME,MANAGER_MANAGER_ID,ID,NAME,managerId\r\n",
       "101,John,,102,Dan,101\r\n",
       "101,John,,103,James,101\r\n",
       "101,John,,104,Amy,101\r\n",
       "101,John,,105,Anne,101\r\n",
       "101,John,,106,Ron,101\r\n",
       "102,Dan,101,,,\r\n",
       "103,James,101,,,\r\n",
       "104,Amy,101,,,\r\n",
       "105,Anne,101,,,\r\n",
       "106,Ron,101,,,\r\n",
       "111,John,,112,Dan,111\r\n",
       "111,John,,113,James,111\r\n",
       "111,John,,114,Amy,111\r\n",
       "111,John,,115,Anne,111\r\n",
       "111,John,,116,Ron,111\r\n",
       "112,Dan,111,,,\r\n",
       "113,James,111,,,\r\n",
       "114,Amy,111,,,\r\n",
       "115,Anne,111,,,\r\n",
       "116,Ron,111,,,\r\n",
       "201,,,202,,201\r\n",
       "201,,,203,,201\r\n",
       "201,,,204,,201\r\n",
       "201,,,205,,201\r\n",
       "201,,,206,,201\r\n",
       "202,,201,,,\r\n",
       "203,,201,,,\r\n",
       "204,,201,,,\r\n",
       "205,,201,,,\r\n",
       "206,,201,,,\r\n"
      ],
      "text/html": [
       "<table><thead><tr><td><span>MANAGER_ID</span></td><td><span>MANGER_NAME</span></td><td><span>MANAGER_MANAGER_ID</span></td><td><span>ID</span></td><td><span>NAME</span></td><td><span>managerId</span></td></tr></thead><tbody><tr><td><div class=\"dni-plaintext\"><pre>101</pre></div></td><td>John</td><td><div class=\"dni-plaintext\"><pre>&lt;null&gt;</pre></div></td><td><div class=\"dni-plaintext\"><pre>102</pre></div></td><td>Dan</td><td><div class=\"dni-plaintext\"><pre>101</pre></div></td></tr><tr><td><div class=\"dni-plaintext\"><pre>101</pre></div></td><td>John</td><td><div class=\"dni-plaintext\"><pre>&lt;null&gt;</pre></div></td><td><div class=\"dni-plaintext\"><pre>103</pre></div></td><td>James</td><td><div class=\"dni-plaintext\"><pre>101</pre></div></td></tr><tr><td><div class=\"dni-plaintext\"><pre>101</pre></div></td><td>John</td><td><div class=\"dni-plaintext\"><pre>&lt;null&gt;</pre></div></td><td><div class=\"dni-plaintext\"><pre>104</pre></div></td><td>Amy</td><td><div class=\"dni-plaintext\"><pre>101</pre></div></td></tr><tr><td><div class=\"dni-plaintext\"><pre>101</pre></div></td><td>John</td><td><div class=\"dni-plaintext\"><pre>&lt;null&gt;</pre></div></td><td><div class=\"dni-plaintext\"><pre>105</pre></div></td><td>Anne</td><td><div class=\"dni-plaintext\"><pre>101</pre></div></td></tr><tr><td><div class=\"dni-plaintext\"><pre>101</pre></div></td><td>John</td><td><div class=\"dni-plaintext\"><pre>&lt;null&gt;</pre></div></td><td><div class=\"dni-plaintext\"><pre>106</pre></div></td><td>Ron</td><td><div class=\"dni-plaintext\"><pre>101</pre></div></td></tr><tr><td><div class=\"dni-plaintext\"><pre>102</pre></div></td><td>Dan</td><td><div class=\"dni-plaintext\"><pre>101</pre></div></td><td><div class=\"dni-plaintext\"><pre>&lt;null&gt;</pre></div></td><td><div class=\"dni-plaintext\"><pre>&lt;null&gt;</pre></div></td><td><div class=\"dni-plaintext\"><pre>&lt;null&gt;</pre></div></td></tr><tr><td><div class=\"dni-plaintext\"><pre>103</pre></div></td><td>James</td><td><div class=\"dni-plaintext\"><pre>101</pre></div></td><td><div class=\"dni-plaintext\"><pre>&lt;null&gt;</pre></div></td><td><div class=\"dni-plaintext\"><pre>&lt;null&gt;</pre></div></td><td><div class=\"dni-plaintext\"><pre>&lt;null&gt;</pre></div></td></tr><tr><td><div class=\"dni-plaintext\"><pre>104</pre></div></td><td>Amy</td><td><div class=\"dni-plaintext\"><pre>101</pre></div></td><td><div class=\"dni-plaintext\"><pre>&lt;null&gt;</pre></div></td><td><div class=\"dni-plaintext\"><pre>&lt;null&gt;</pre></div></td><td><div class=\"dni-plaintext\"><pre>&lt;null&gt;</pre></div></td></tr><tr><td><div class=\"dni-plaintext\"><pre>105</pre></div></td><td>Anne</td><td><div class=\"dni-plaintext\"><pre>101</pre></div></td><td><div class=\"dni-plaintext\"><pre>&lt;null&gt;</pre></div></td><td><div class=\"dni-plaintext\"><pre>&lt;null&gt;</pre></div></td><td><div class=\"dni-plaintext\"><pre>&lt;null&gt;</pre></div></td></tr><tr><td><div class=\"dni-plaintext\"><pre>106</pre></div></td><td>Ron</td><td><div class=\"dni-plaintext\"><pre>101</pre></div></td><td><div class=\"dni-plaintext\"><pre>&lt;null&gt;</pre></div></td><td><div class=\"dni-plaintext\"><pre>&lt;null&gt;</pre></div></td><td><div class=\"dni-plaintext\"><pre>&lt;null&gt;</pre></div></td></tr><tr><td><div class=\"dni-plaintext\"><pre>111</pre></div></td><td>John</td><td><div class=\"dni-plaintext\"><pre>&lt;null&gt;</pre></div></td><td><div class=\"dni-plaintext\"><pre>112</pre></div></td><td>Dan</td><td><div class=\"dni-plaintext\"><pre>111</pre></div></td></tr><tr><td><div class=\"dni-plaintext\"><pre>111</pre></div></td><td>John</td><td><div class=\"dni-plaintext\"><pre>&lt;null&gt;</pre></div></td><td><div class=\"dni-plaintext\"><pre>113</pre></div></td><td>James</td><td><div class=\"dni-plaintext\"><pre>111</pre></div></td></tr><tr><td><div class=\"dni-plaintext\"><pre>111</pre></div></td><td>John</td><td><div class=\"dni-plaintext\"><pre>&lt;null&gt;</pre></div></td><td><div class=\"dni-plaintext\"><pre>114</pre></div></td><td>Amy</td><td><div class=\"dni-plaintext\"><pre>111</pre></div></td></tr><tr><td><div class=\"dni-plaintext\"><pre>111</pre></div></td><td>John</td><td><div class=\"dni-plaintext\"><pre>&lt;null&gt;</pre></div></td><td><div class=\"dni-plaintext\"><pre>115</pre></div></td><td>Anne</td><td><div class=\"dni-plaintext\"><pre>111</pre></div></td></tr><tr><td><div class=\"dni-plaintext\"><pre>111</pre></div></td><td>John</td><td><div class=\"dni-plaintext\"><pre>&lt;null&gt;</pre></div></td><td><div class=\"dni-plaintext\"><pre>116</pre></div></td><td>Ron</td><td><div class=\"dni-plaintext\"><pre>111</pre></div></td></tr><tr><td><div class=\"dni-plaintext\"><pre>112</pre></div></td><td>Dan</td><td><div class=\"dni-plaintext\"><pre>111</pre></div></td><td><div class=\"dni-plaintext\"><pre>&lt;null&gt;</pre></div></td><td><div class=\"dni-plaintext\"><pre>&lt;null&gt;</pre></div></td><td><div class=\"dni-plaintext\"><pre>&lt;null&gt;</pre></div></td></tr><tr><td><div class=\"dni-plaintext\"><pre>113</pre></div></td><td>James</td><td><div class=\"dni-plaintext\"><pre>111</pre></div></td><td><div class=\"dni-plaintext\"><pre>&lt;null&gt;</pre></div></td><td><div class=\"dni-plaintext\"><pre>&lt;null&gt;</pre></div></td><td><div class=\"dni-plaintext\"><pre>&lt;null&gt;</pre></div></td></tr><tr><td><div class=\"dni-plaintext\"><pre>114</pre></div></td><td>Amy</td><td><div class=\"dni-plaintext\"><pre>111</pre></div></td><td><div class=\"dni-plaintext\"><pre>&lt;null&gt;</pre></div></td><td><div class=\"dni-plaintext\"><pre>&lt;null&gt;</pre></div></td><td><div class=\"dni-plaintext\"><pre>&lt;null&gt;</pre></div></td></tr><tr><td><div class=\"dni-plaintext\"><pre>115</pre></div></td><td>Anne</td><td><div class=\"dni-plaintext\"><pre>111</pre></div></td><td><div class=\"dni-plaintext\"><pre>&lt;null&gt;</pre></div></td><td><div class=\"dni-plaintext\"><pre>&lt;null&gt;</pre></div></td><td><div class=\"dni-plaintext\"><pre>&lt;null&gt;</pre></div></td></tr><tr><td><div class=\"dni-plaintext\"><pre>116</pre></div></td><td>Ron</td><td><div class=\"dni-plaintext\"><pre>111</pre></div></td><td><div class=\"dni-plaintext\"><pre>&lt;null&gt;</pre></div></td><td><div class=\"dni-plaintext\"><pre>&lt;null&gt;</pre></div></td><td><div class=\"dni-plaintext\"><pre>&lt;null&gt;</pre></div></td></tr><tr><td colspan=\"6\"><i>(10 more)</i></td></tr></tbody></table><style>\r\n",
       ".dni-code-hint {\r\n",
       "    font-style: italic;\r\n",
       "    overflow: hidden;\r\n",
       "    white-space: nowrap;\r\n",
       "}\r\n",
       ".dni-treeview {\r\n",
       "    white-space: nowrap;\r\n",
       "}\r\n",
       ".dni-treeview td {\r\n",
       "    vertical-align: top;\r\n",
       "    text-align: start;\r\n",
       "}\r\n",
       "details.dni-treeview {\r\n",
       "    padding-left: 1em;\r\n",
       "}\r\n",
       "table td {\r\n",
       "    text-align: start;\r\n",
       "}\r\n",
       "table tr { \r\n",
       "    vertical-align: top; \r\n",
       "    margin: 0em 0px;\r\n",
       "}\r\n",
       "table tr td pre \r\n",
       "{ \r\n",
       "    vertical-align: top !important; \r\n",
       "    margin: 0em 0px !important;\r\n",
       "} \r\n",
       "table th {\r\n",
       "    text-align: start;\r\n",
       "}\r\n",
       "</style>"
      ]
     },
     "metadata": {},
     "output_type": "display_data"
    },
    {
     "data": {
      "text/csv": [
       "MANAGER_ID,MANGER_NAME,MANAGER_MANAGER_ID,ID,NAME,managerId\r\n",
       "101,John,,102,Dan,101\r\n",
       "101,John,,103,James,101\r\n",
       "101,John,,104,Amy,101\r\n",
       "101,John,,105,Anne,101\r\n",
       "101,John,,106,Ron,101\r\n",
       "111,John,,112,Dan,111\r\n",
       "111,John,,113,James,111\r\n",
       "111,John,,114,Amy,111\r\n",
       "111,John,,115,Anne,111\r\n",
       "111,John,,116,Ron,111\r\n",
       "201,,,202,,201\r\n",
       "201,,,203,,201\r\n",
       "201,,,204,,201\r\n",
       "201,,,205,,201\r\n",
       "201,,,206,,201\r\n"
      ],
      "text/html": [
       "<table><thead><tr><td><span>MANAGER_ID</span></td><td><span>MANGER_NAME</span></td><td><span>MANAGER_MANAGER_ID</span></td><td><span>ID</span></td><td><span>NAME</span></td><td><span>managerId</span></td></tr></thead><tbody><tr><td><div class=\"dni-plaintext\"><pre>101</pre></div></td><td>John</td><td><div class=\"dni-plaintext\"><pre>&lt;null&gt;</pre></div></td><td><div class=\"dni-plaintext\"><pre>102</pre></div></td><td>Dan</td><td><div class=\"dni-plaintext\"><pre>101</pre></div></td></tr><tr><td><div class=\"dni-plaintext\"><pre>101</pre></div></td><td>John</td><td><div class=\"dni-plaintext\"><pre>&lt;null&gt;</pre></div></td><td><div class=\"dni-plaintext\"><pre>103</pre></div></td><td>James</td><td><div class=\"dni-plaintext\"><pre>101</pre></div></td></tr><tr><td><div class=\"dni-plaintext\"><pre>101</pre></div></td><td>John</td><td><div class=\"dni-plaintext\"><pre>&lt;null&gt;</pre></div></td><td><div class=\"dni-plaintext\"><pre>104</pre></div></td><td>Amy</td><td><div class=\"dni-plaintext\"><pre>101</pre></div></td></tr><tr><td><div class=\"dni-plaintext\"><pre>101</pre></div></td><td>John</td><td><div class=\"dni-plaintext\"><pre>&lt;null&gt;</pre></div></td><td><div class=\"dni-plaintext\"><pre>105</pre></div></td><td>Anne</td><td><div class=\"dni-plaintext\"><pre>101</pre></div></td></tr><tr><td><div class=\"dni-plaintext\"><pre>101</pre></div></td><td>John</td><td><div class=\"dni-plaintext\"><pre>&lt;null&gt;</pre></div></td><td><div class=\"dni-plaintext\"><pre>106</pre></div></td><td>Ron</td><td><div class=\"dni-plaintext\"><pre>101</pre></div></td></tr><tr><td><div class=\"dni-plaintext\"><pre>111</pre></div></td><td>John</td><td><div class=\"dni-plaintext\"><pre>&lt;null&gt;</pre></div></td><td><div class=\"dni-plaintext\"><pre>112</pre></div></td><td>Dan</td><td><div class=\"dni-plaintext\"><pre>111</pre></div></td></tr><tr><td><div class=\"dni-plaintext\"><pre>111</pre></div></td><td>John</td><td><div class=\"dni-plaintext\"><pre>&lt;null&gt;</pre></div></td><td><div class=\"dni-plaintext\"><pre>113</pre></div></td><td>James</td><td><div class=\"dni-plaintext\"><pre>111</pre></div></td></tr><tr><td><div class=\"dni-plaintext\"><pre>111</pre></div></td><td>John</td><td><div class=\"dni-plaintext\"><pre>&lt;null&gt;</pre></div></td><td><div class=\"dni-plaintext\"><pre>114</pre></div></td><td>Amy</td><td><div class=\"dni-plaintext\"><pre>111</pre></div></td></tr><tr><td><div class=\"dni-plaintext\"><pre>111</pre></div></td><td>John</td><td><div class=\"dni-plaintext\"><pre>&lt;null&gt;</pre></div></td><td><div class=\"dni-plaintext\"><pre>115</pre></div></td><td>Anne</td><td><div class=\"dni-plaintext\"><pre>111</pre></div></td></tr><tr><td><div class=\"dni-plaintext\"><pre>111</pre></div></td><td>John</td><td><div class=\"dni-plaintext\"><pre>&lt;null&gt;</pre></div></td><td><div class=\"dni-plaintext\"><pre>116</pre></div></td><td>Ron</td><td><div class=\"dni-plaintext\"><pre>111</pre></div></td></tr><tr><td><div class=\"dni-plaintext\"><pre>201</pre></div></td><td><div class=\"dni-plaintext\"><pre>&lt;null&gt;</pre></div></td><td><div class=\"dni-plaintext\"><pre>&lt;null&gt;</pre></div></td><td><div class=\"dni-plaintext\"><pre>202</pre></div></td><td><div class=\"dni-plaintext\"><pre>&lt;null&gt;</pre></div></td><td><div class=\"dni-plaintext\"><pre>201</pre></div></td></tr><tr><td><div class=\"dni-plaintext\"><pre>201</pre></div></td><td><div class=\"dni-plaintext\"><pre>&lt;null&gt;</pre></div></td><td><div class=\"dni-plaintext\"><pre>&lt;null&gt;</pre></div></td><td><div class=\"dni-plaintext\"><pre>203</pre></div></td><td><div class=\"dni-plaintext\"><pre>&lt;null&gt;</pre></div></td><td><div class=\"dni-plaintext\"><pre>201</pre></div></td></tr><tr><td><div class=\"dni-plaintext\"><pre>201</pre></div></td><td><div class=\"dni-plaintext\"><pre>&lt;null&gt;</pre></div></td><td><div class=\"dni-plaintext\"><pre>&lt;null&gt;</pre></div></td><td><div class=\"dni-plaintext\"><pre>204</pre></div></td><td><div class=\"dni-plaintext\"><pre>&lt;null&gt;</pre></div></td><td><div class=\"dni-plaintext\"><pre>201</pre></div></td></tr><tr><td><div class=\"dni-plaintext\"><pre>201</pre></div></td><td><div class=\"dni-plaintext\"><pre>&lt;null&gt;</pre></div></td><td><div class=\"dni-plaintext\"><pre>&lt;null&gt;</pre></div></td><td><div class=\"dni-plaintext\"><pre>205</pre></div></td><td><div class=\"dni-plaintext\"><pre>&lt;null&gt;</pre></div></td><td><div class=\"dni-plaintext\"><pre>201</pre></div></td></tr><tr><td><div class=\"dni-plaintext\"><pre>201</pre></div></td><td><div class=\"dni-plaintext\"><pre>&lt;null&gt;</pre></div></td><td><div class=\"dni-plaintext\"><pre>&lt;null&gt;</pre></div></td><td><div class=\"dni-plaintext\"><pre>206</pre></div></td><td><div class=\"dni-plaintext\"><pre>&lt;null&gt;</pre></div></td><td><div class=\"dni-plaintext\"><pre>201</pre></div></td></tr></tbody></table><style>\r\n",
       ".dni-code-hint {\r\n",
       "    font-style: italic;\r\n",
       "    overflow: hidden;\r\n",
       "    white-space: nowrap;\r\n",
       "}\r\n",
       ".dni-treeview {\r\n",
       "    white-space: nowrap;\r\n",
       "}\r\n",
       ".dni-treeview td {\r\n",
       "    vertical-align: top;\r\n",
       "    text-align: start;\r\n",
       "}\r\n",
       "details.dni-treeview {\r\n",
       "    padding-left: 1em;\r\n",
       "}\r\n",
       "table td {\r\n",
       "    text-align: start;\r\n",
       "}\r\n",
       "table tr { \r\n",
       "    vertical-align: top; \r\n",
       "    margin: 0em 0px;\r\n",
       "}\r\n",
       "table tr td pre \r\n",
       "{ \r\n",
       "    vertical-align: top !important; \r\n",
       "    margin: 0em 0px !important;\r\n",
       "} \r\n",
       "table th {\r\n",
       "    text-align: start;\r\n",
       "}\r\n",
       "</style>"
      ]
     },
     "metadata": {},
     "output_type": "display_data"
    },
    {
     "data": {
      "text/csv": [
       "MANAGE_NAME,#MANAGES\r\n",
       "John,5\r\n",
       "John,5\r\n",
       ",5\r\n"
      ],
      "text/html": [
       "<table><thead><tr><td><span>MANAGE_NAME</span></td><td><span>#MANAGES</span></td></tr></thead><tbody><tr><td>John</td><td><div class=\"dni-plaintext\"><pre>5</pre></div></td></tr><tr><td>John</td><td><div class=\"dni-plaintext\"><pre>5</pre></div></td></tr><tr><td><div class=\"dni-plaintext\"><pre>&lt;null&gt;</pre></div></td><td><div class=\"dni-plaintext\"><pre>5</pre></div></td></tr></tbody></table><style>\r\n",
       ".dni-code-hint {\r\n",
       "    font-style: italic;\r\n",
       "    overflow: hidden;\r\n",
       "    white-space: nowrap;\r\n",
       "}\r\n",
       ".dni-treeview {\r\n",
       "    white-space: nowrap;\r\n",
       "}\r\n",
       ".dni-treeview td {\r\n",
       "    vertical-align: top;\r\n",
       "    text-align: start;\r\n",
       "}\r\n",
       "details.dni-treeview {\r\n",
       "    padding-left: 1em;\r\n",
       "}\r\n",
       "table td {\r\n",
       "    text-align: start;\r\n",
       "}\r\n",
       "table tr { \r\n",
       "    vertical-align: top; \r\n",
       "    margin: 0em 0px;\r\n",
       "}\r\n",
       "table tr td pre \r\n",
       "{ \r\n",
       "    vertical-align: top !important; \r\n",
       "    margin: 0em 0px !important;\r\n",
       "} \r\n",
       "table th {\r\n",
       "    text-align: start;\r\n",
       "}\r\n",
       "</style>"
      ]
     },
     "metadata": {},
     "output_type": "display_data"
    }
   ],
   "source": [
    "#!sql-sqlstudy\n",
    "-- VISAO GERAL, COM LEFT JOIN\n",
    "SELECT \n",
    "    MANAG.ID AS MANAGER_ID, MANAG.NAME AS MANGER_NAME, MANAG.managerId AS MANAGER_MANAGER_ID,\n",
    "    EMP.ID, EMP.NAME, EMP.managerId\n",
    "FROM dbo.Employee MANAG\n",
    "left JOIN dbo.Employee EMP ON MANAG.id = EMP.managerId\n",
    "ORDER BY MANAG.ID, MANAG.NAME\n",
    "\n",
    "-- VISAO GERAL, COM INNER JOIN\n",
    "SELECT \n",
    "    MANAG.ID AS MANAGER_ID, MANAG.NAME AS MANGER_NAME, MANAG.managerId AS MANAGER_MANAGER_ID,\n",
    "    EMP.ID, EMP.NAME, EMP.managerId\n",
    "FROM dbo.Employee MANAG\n",
    "INNER JOIN dbo.Employee EMP ON MANAG.id = EMP.managerId\n",
    "ORDER BY MANAG.ID, MANAG.NAME\n",
    "\n",
    "-- RESOLVENDO COM AGREGACAO SIMPLES\n",
    "SELECT\n",
    "    MANAG.NAME AS MANAGE_NAME,\n",
    "    COUNT(*) AS #MANAGES\n",
    "FROM dbo.Employee MANAG\n",
    "INNER JOIN dbo.Employee EMP ON MANAG.id = EMP.managerId\n",
    "GROUP BY MANAG.ID, MANAG.NAME\n",
    "HAVING COUNT(*) > 4"
   ]
  },
  {
   "cell_type": "code",
   "execution_count": null,
   "metadata": {
    "language_info": {
     "name": "polyglot-notebook"
    },
    "polyglot_notebook": {
     "kernelName": "csharp"
    }
   },
   "outputs": [],
   "source": []
  }
 ],
 "metadata": {
  "kernelspec": {
   "display_name": ".NET (C#)",
   "language": "C#",
   "name": ".net-csharp"
  },
  "language_info": {
   "name": "polyglot-notebook"
  },
  "polyglot_notebook": {
   "kernelInfo": {
    "defaultKernelName": "csharp",
    "items": [
     {
      "aliases": [],
      "name": "csharp"
     }
    ]
   }
  }
 },
 "nbformat": 4,
 "nbformat_minor": 5
}
