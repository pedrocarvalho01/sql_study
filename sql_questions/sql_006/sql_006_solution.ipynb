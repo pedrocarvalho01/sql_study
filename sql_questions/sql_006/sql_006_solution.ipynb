{
 "cells": [
  {
   "cell_type": "code",
   "execution_count": 1,
   "id": "5406bb72",
   "metadata": {},
   "outputs": [
    {
     "data": {
      "text/html": [
       "<div><div></div><div></div><div><strong>Installed Packages</strong><ul><li><span>Microsoft.DotNet.Interactive.SqlServer, 1.0.0-beta.25323.1</span></li></ul></div></div>"
      ]
     },
     "metadata": {},
     "output_type": "display_data"
    },
    {
     "data": {
      "text/plain": [
       "Loading extension script from `C:\\Users\\Pedro_Carvalho1\\.nuget\\packages\\microsoft.dotnet.interactive.sqlserver\\1.0.0-beta.25323.1\\interactive-extensions\\dotnet\\extension.dib`"
      ]
     },
     "metadata": {},
     "output_type": "display_data"
    },
    {
     "data": {
      "text/html": [
       "<details><summary>Query Microsoft SQL Server databases.</summary>\r\n",
       "<p>This extension adds support for connecting to Microsoft SQL Server databases using the <code>#!connect mssql</code> magic command. For more information, run a cell using the <code>#!sql</code> magic command.</p>\r\n",
       "</details>"
      ]
     },
     "metadata": {},
     "output_type": "display_data"
    }
   ],
   "source": [
    "#r \"nuget:Microsoft.DotNet.Interactive.SqlServer, *-*\""
   ]
  },
  {
   "cell_type": "code",
   "execution_count": 2,
   "id": "c35a4318",
   "metadata": {},
   "outputs": [],
   "source": [
    "using System.IO;\n",
    "\n",
    "var connStr = File.ReadAllText(@\"C:\\Users\\Pedro_Carvalho1\\conn_str.txt\");\n",
    "\n",
    "#!share --from csharp connStr"
   ]
  },
  {
   "cell_type": "code",
   "execution_count": 3,
   "id": "6c3c328e",
   "metadata": {},
   "outputs": [
    {
     "data": {
      "text/plain": [
       "Kernel added: #!sql-sqlstudy"
      ]
     },
     "metadata": {},
     "output_type": "display_data"
    }
   ],
   "source": [
    "#!connect mssql --kernel-name sqlstudy --connection-string @connStr"
   ]
  },
  {
   "cell_type": "code",
   "execution_count": 5,
   "id": "73646fca",
   "metadata": {},
   "outputs": [
    {
     "data": {
      "text/plain": [
       "Commands completed successfully."
      ]
     },
     "metadata": {},
     "output_type": "display_data"
    }
   ],
   "source": [
    "#!sql-sqlstudy\n",
    "-- Criar tabela Signups\n",
    "CREATE TABLE dbo.Signups (\n",
    "    user_id INT NOT NULL PRIMARY KEY,\n",
    "    time_stamp DATETIME NOT NULL\n",
    ");\n",
    "\n",
    "-- Criar tabela Confirmations\n",
    "CREATE TABLE dbo.Confirmations (\n",
    "    user_id INT NOT NULL,\n",
    "    time_stamp DATETIME NOT NULL,\n",
    "    action VARCHAR(20) NOT NULL CHECK (action IN ('confirmed', 'timeout')),\n",
    "    CONSTRAINT PK_Confirmations PRIMARY KEY (user_id, time_stamp),\n",
    "    CONSTRAINT FK_Confirmations_Signups FOREIGN KEY (user_id)\n",
    "        REFERENCES dbo.Signups (user_id)\n",
    ");\n",
    "\n"
   ]
  },
  {
   "cell_type": "code",
   "execution_count": 6,
   "id": "d52f9ad6",
   "metadata": {},
   "outputs": [
    {
     "data": {
      "text/plain": [
       "(4 rows affected)"
      ]
     },
     "metadata": {},
     "output_type": "display_data"
    },
    {
     "data": {
      "text/plain": [
       "(7 rows affected)"
      ]
     },
     "metadata": {},
     "output_type": "display_data"
    }
   ],
   "source": [
    "#!sql-sqlstudy\n",
    "-- Inserir dados na tabela Signups\n",
    "INSERT INTO dbo.Signups (user_id, time_stamp)\n",
    "VALUES\n",
    "(3, '2020-03-21 10:16:13'),\n",
    "(7, '2020-01-04 13:57:59'),\n",
    "(2, '2020-07-29 23:09:44'),\n",
    "(6, '2020-12-09 10:39:37');\n",
    "\n",
    "-- Inserir dados na tabela Confirmations\n",
    "INSERT INTO dbo.Confirmations (user_id, time_stamp, action)\n",
    "VALUES\n",
    "(3, '2021-01-06 03:30:46', 'timeout'),\n",
    "(3, '2021-07-14 14:00:00', 'timeout'),\n",
    "(7, '2021-06-12 11:57:29', 'confirmed'),\n",
    "(7, '2021-06-13 12:58:28', 'confirmed'),\n",
    "(7, '2021-06-14 13:59:27', 'confirmed'),\n",
    "(2, '2021-01-22 00:00:00', 'confirmed'),\n",
    "(2, '2021-02-28 23:59:59', 'timeout');\n"
   ]
  },
  {
   "cell_type": "code",
   "execution_count": 7,
   "id": "ba124c92",
   "metadata": {},
   "outputs": [
    {
     "data": {
      "text/plain": [
       "(4 rows affected)"
      ]
     },
     "metadata": {},
     "output_type": "display_data"
    },
    {
     "data": {
      "text/plain": [
       "(7 rows affected)"
      ]
     },
     "metadata": {},
     "output_type": "display_data"
    },
    {
     "data": {
      "text/csv": [
       "user_id,time_stamp\r\n",
       "2,2020-07-29T23:09:44.0000000\r\n",
       "3,2020-03-21T10:16:13.0000000\r\n",
       "6,2020-12-09T10:39:37.0000000\r\n",
       "7,2020-01-04T13:57:59.0000000\r\n"
      ],
      "text/html": [
       "<table><thead><tr><td><span>user_id</span></td><td><span>time_stamp</span></td></tr></thead><tbody><tr><td><div class=\"dni-plaintext\"><pre>2</pre></div></td><td><span>2020-07-29 23:09:44Z</span></td></tr><tr><td><div class=\"dni-plaintext\"><pre>3</pre></div></td><td><span>2020-03-21 10:16:13Z</span></td></tr><tr><td><div class=\"dni-plaintext\"><pre>6</pre></div></td><td><span>2020-12-09 10:39:37Z</span></td></tr><tr><td><div class=\"dni-plaintext\"><pre>7</pre></div></td><td><span>2020-01-04 13:57:59Z</span></td></tr></tbody></table><style>\r\n",
       ".dni-code-hint {\r\n",
       "    font-style: italic;\r\n",
       "    overflow: hidden;\r\n",
       "    white-space: nowrap;\r\n",
       "}\r\n",
       ".dni-treeview {\r\n",
       "    white-space: nowrap;\r\n",
       "}\r\n",
       ".dni-treeview td {\r\n",
       "    vertical-align: top;\r\n",
       "    text-align: start;\r\n",
       "}\r\n",
       "details.dni-treeview {\r\n",
       "    padding-left: 1em;\r\n",
       "}\r\n",
       "table td {\r\n",
       "    text-align: start;\r\n",
       "}\r\n",
       "table tr { \r\n",
       "    vertical-align: top; \r\n",
       "    margin: 0em 0px;\r\n",
       "}\r\n",
       "table tr td pre \r\n",
       "{ \r\n",
       "    vertical-align: top !important; \r\n",
       "    margin: 0em 0px !important;\r\n",
       "} \r\n",
       "table th {\r\n",
       "    text-align: start;\r\n",
       "}\r\n",
       "</style>"
      ]
     },
     "metadata": {},
     "output_type": "display_data"
    },
    {
     "data": {
      "text/csv": [
       "user_id,time_stamp,action\r\n",
       "2,2021-01-22T00:00:00.0000000,confirmed\r\n",
       "2,2021-02-28T23:59:59.0000000,timeout\r\n",
       "3,2021-01-06T03:30:46.0000000,timeout\r\n",
       "3,2021-07-14T14:00:00.0000000,timeout\r\n",
       "7,2021-06-12T11:57:29.0000000,confirmed\r\n",
       "7,2021-06-13T12:58:28.0000000,confirmed\r\n",
       "7,2021-06-14T13:59:27.0000000,confirmed\r\n"
      ],
      "text/html": [
       "<table><thead><tr><td><span>user_id</span></td><td><span>time_stamp</span></td><td><span>action</span></td></tr></thead><tbody><tr><td><div class=\"dni-plaintext\"><pre>2</pre></div></td><td><span>2021-01-22 00:00:00Z</span></td><td>confirmed</td></tr><tr><td><div class=\"dni-plaintext\"><pre>2</pre></div></td><td><span>2021-02-28 23:59:59Z</span></td><td>timeout</td></tr><tr><td><div class=\"dni-plaintext\"><pre>3</pre></div></td><td><span>2021-01-06 03:30:46Z</span></td><td>timeout</td></tr><tr><td><div class=\"dni-plaintext\"><pre>3</pre></div></td><td><span>2021-07-14 14:00:00Z</span></td><td>timeout</td></tr><tr><td><div class=\"dni-plaintext\"><pre>7</pre></div></td><td><span>2021-06-12 11:57:29Z</span></td><td>confirmed</td></tr><tr><td><div class=\"dni-plaintext\"><pre>7</pre></div></td><td><span>2021-06-13 12:58:28Z</span></td><td>confirmed</td></tr><tr><td><div class=\"dni-plaintext\"><pre>7</pre></div></td><td><span>2021-06-14 13:59:27Z</span></td><td>confirmed</td></tr></tbody></table><style>\r\n",
       ".dni-code-hint {\r\n",
       "    font-style: italic;\r\n",
       "    overflow: hidden;\r\n",
       "    white-space: nowrap;\r\n",
       "}\r\n",
       ".dni-treeview {\r\n",
       "    white-space: nowrap;\r\n",
       "}\r\n",
       ".dni-treeview td {\r\n",
       "    vertical-align: top;\r\n",
       "    text-align: start;\r\n",
       "}\r\n",
       "details.dni-treeview {\r\n",
       "    padding-left: 1em;\r\n",
       "}\r\n",
       "table td {\r\n",
       "    text-align: start;\r\n",
       "}\r\n",
       "table tr { \r\n",
       "    vertical-align: top; \r\n",
       "    margin: 0em 0px;\r\n",
       "}\r\n",
       "table tr td pre \r\n",
       "{ \r\n",
       "    vertical-align: top !important; \r\n",
       "    margin: 0em 0px !important;\r\n",
       "} \r\n",
       "table th {\r\n",
       "    text-align: start;\r\n",
       "}\r\n",
       "</style>"
      ]
     },
     "metadata": {},
     "output_type": "display_data"
    }
   ],
   "source": [
    "#!sql-sqlstudy\n",
    "SELECT * FROM dbo.Signups;\n",
    "SELECT * FROM dbo.Confirmations;"
   ]
  },
  {
   "cell_type": "code",
   "execution_count": null,
   "id": "95060bbe",
   "metadata": {},
   "outputs": [],
   "source": [
    "The confirmation rate of a user is the number of 'confirmed' messages divided by the total number of requested confirmation messages. \n",
    "The confirmation rate of a user that did not request any confirmation messages is 0. Round the confirmation rate to two decimal places.\n",
    "\n",
    "Write a solution to find the confirmation rate of each user.\n",
    "Return the result table in any order.\n",
    "The result format is in the following example.\n",
    "\n",
    "\n",
    "Example 1:\n",
    "\n",
    "Input: \n",
    "Signups table:\n",
    "+---------+---------------------+\n",
    "| user_id | time_stamp          |\n",
    "+---------+---------------------+\n",
    "| 3       | 2020-03-21 10:16:13 |\n",
    "| 7       | 2020-01-04 13:57:59 |\n",
    "| 2       | 2020-07-29 23:09:44 |\n",
    "| 6       | 2020-12-09 10:39:37 |\n",
    "+---------+---------------------+\n",
    "Confirmations table:\n",
    "+---------+---------------------+-----------+\n",
    "| user_id | time_stamp          | action    |\n",
    "+---------+---------------------+-----------+\n",
    "| 3       | 2021-01-06 03:30:46 | timeout   |\n",
    "| 3       | 2021-07-14 14:00:00 | timeout   |\n",
    "| 7       | 2021-06-12 11:57:29 | confirmed |\n",
    "| 7       | 2021-06-13 12:58:28 | confirmed |\n",
    "| 7       | 2021-06-14 13:59:27 | confirmed |\n",
    "| 2       | 2021-01-22 00:00:00 | confirmed |\n",
    "| 2       | 2021-02-28 23:59:59 | timeout   |\n",
    "+---------+---------------------+-----------+\n",
    "Output: \n",
    "+---------+-------------------+\n",
    "| user_id | confirmation_rate |\n",
    "+---------+-------------------+\n",
    "| 6       | 0.00              |\n",
    "| 3       | 0.00              |\n",
    "| 7       | 1.00              |\n",
    "| 2       | 0.50              |\n",
    "+---------+-------------------+\n",
    "Explanation: \n",
    "User 6 did not request any confirmation messages. The confirmation rate is 0.\n",
    "User 3 made 2 requests and both timed out. The confirmation rate is 0.\n",
    "User 7 made 3 requests and all were confirmed. The confirmation rate is 1.\n",
    "User 2 made 2 requests where one was confirmed and the other timed out. The confirmation rate is 1 / 2 = 0.5.\n"
   ]
  },
  {
   "cell_type": "code",
   "execution_count": 48,
   "id": "7e63fa67",
   "metadata": {
    "language_info": {
     "name": "polyglot-notebook"
    },
    "polyglot_notebook": {
     "kernelName": "sql-sqlstudy"
    }
   },
   "outputs": [
    {
     "data": {
      "text/plain": [
       "Commands completed successfully."
      ]
     },
     "metadata": {},
     "output_type": "display_data"
    },
    {
     "data": {
      "text/plain": [
       "Warning: Null value is eliminated by an aggregate or other SET operation."
      ]
     },
     "metadata": {},
     "output_type": "display_data"
    },
    {
     "data": {
      "text/plain": [
       "(4 rows affected)"
      ]
     },
     "metadata": {},
     "output_type": "display_data"
    },
    {
     "data": {
      "text/csv": [
       "user_id,confirmation_rate\r\n",
       "2,0.50\r\n",
       "3,0.00\r\n",
       "6,0.00\r\n",
       "7,1.00\r\n"
      ],
      "text/html": [
       "<table><thead><tr><td><span>user_id</span></td><td><span>confirmation_rate</span></td></tr></thead><tbody><tr><td><div class=\"dni-plaintext\"><pre>2</pre></div></td><td><div class=\"dni-plaintext\"><pre>0.50</pre></div></td></tr><tr><td><div class=\"dni-plaintext\"><pre>3</pre></div></td><td><div class=\"dni-plaintext\"><pre>0.00</pre></div></td></tr><tr><td><div class=\"dni-plaintext\"><pre>6</pre></div></td><td><div class=\"dni-plaintext\"><pre>0.00</pre></div></td></tr><tr><td><div class=\"dni-plaintext\"><pre>7</pre></div></td><td><div class=\"dni-plaintext\"><pre>1.00</pre></div></td></tr></tbody></table><style>\r\n",
       ".dni-code-hint {\r\n",
       "    font-style: italic;\r\n",
       "    overflow: hidden;\r\n",
       "    white-space: nowrap;\r\n",
       "}\r\n",
       ".dni-treeview {\r\n",
       "    white-space: nowrap;\r\n",
       "}\r\n",
       ".dni-treeview td {\r\n",
       "    vertical-align: top;\r\n",
       "    text-align: start;\r\n",
       "}\r\n",
       "details.dni-treeview {\r\n",
       "    padding-left: 1em;\r\n",
       "}\r\n",
       "table td {\r\n",
       "    text-align: start;\r\n",
       "}\r\n",
       "table tr { \r\n",
       "    vertical-align: top; \r\n",
       "    margin: 0em 0px;\r\n",
       "}\r\n",
       "table tr td pre \r\n",
       "{ \r\n",
       "    vertical-align: top !important; \r\n",
       "    margin: 0em 0px !important;\r\n",
       "} \r\n",
       "table th {\r\n",
       "    text-align: start;\r\n",
       "}\r\n",
       "</style>"
      ]
     },
     "metadata": {},
     "output_type": "display_data"
    }
   ],
   "source": [
    "/* Write your T-SQL query statement below */\n",
    "#!sql-sqlstudy\n",
    "select\n",
    "    s.user_id\n",
    "    -- ,c.user_id\n",
    "    -- ,c.time_stamp\n",
    "    -- ,c.action\n",
    "    -- ,SUM( case when c.action = 'confirmed'  then 1 else 0 end ) as count_confirmed\n",
    "    -- ,COUNT( c.action ) as count_total\n",
    "    , CASE\n",
    "        WHEN \n",
    "            SUM( case when c.action = 'confirmed'  then 1 else 0 end ) * 1.0\n",
    "            / NULLIF( COUNT( c.action ) , 0)\n",
    "            IS NULL THEN 0\n",
    "        ELSE \n",
    "            CAST(\n",
    "                ROUND( \n",
    "                    SUM( case when c.action = 'confirmed'  then 1 else 0 end ) * 1.0\n",
    "                    / NULLIF( COUNT( c.action ) , 0)\n",
    "                , 2 ) as DECIMAL(10,2) )\n",
    "    END  as confirmation_rate  \n",
    "from signups s\n",
    "left join confirmations c on s.user_id = c.user_id\n",
    "group by s.user_id"
   ]
  },
  {
   "cell_type": "code",
   "execution_count": null,
   "id": "4413ef45",
   "metadata": {},
   "outputs": [
    {
     "data": {
      "text/plain": [
       "(4 rows affected)"
      ]
     },
     "metadata": {},
     "output_type": "display_data"
    },
    {
     "data": {
      "text/csv": [
       "user_id,TEST\r\n",
       "2,0.50\r\n",
       "3,0.00\r\n",
       "6,0.00\r\n",
       "7,1.00\r\n"
      ],
      "text/html": [
       "<table><thead><tr><td><span>user_id</span></td><td><span>TEST</span></td></tr></thead><tbody><tr><td><div class=\"dni-plaintext\"><pre>2</pre></div></td><td><div class=\"dni-plaintext\"><pre>0.50</pre></div></td></tr><tr><td><div class=\"dni-plaintext\"><pre>3</pre></div></td><td><div class=\"dni-plaintext\"><pre>0.00</pre></div></td></tr><tr><td><div class=\"dni-plaintext\"><pre>6</pre></div></td><td><div class=\"dni-plaintext\"><pre>0.00</pre></div></td></tr><tr><td><div class=\"dni-plaintext\"><pre>7</pre></div></td><td><div class=\"dni-plaintext\"><pre>1.00</pre></div></td></tr></tbody></table><style>\r\n",
       ".dni-code-hint {\r\n",
       "    font-style: italic;\r\n",
       "    overflow: hidden;\r\n",
       "    white-space: nowrap;\r\n",
       "}\r\n",
       ".dni-treeview {\r\n",
       "    white-space: nowrap;\r\n",
       "}\r\n",
       ".dni-treeview td {\r\n",
       "    vertical-align: top;\r\n",
       "    text-align: start;\r\n",
       "}\r\n",
       "details.dni-treeview {\r\n",
       "    padding-left: 1em;\r\n",
       "}\r\n",
       "table td {\r\n",
       "    text-align: start;\r\n",
       "}\r\n",
       "table tr { \r\n",
       "    vertical-align: top; \r\n",
       "    margin: 0em 0px;\r\n",
       "}\r\n",
       "table tr td pre \r\n",
       "{ \r\n",
       "    vertical-align: top !important; \r\n",
       "    margin: 0em 0px !important;\r\n",
       "} \r\n",
       "table th {\r\n",
       "    text-align: start;\r\n",
       "}\r\n",
       "</style>"
      ]
     },
     "metadata": {},
     "output_type": "display_data"
    }
   ],
   "source": [
    "/* Write your T-SQL query statement below */\n",
    "#!sql-sqlstudy\n",
    "select\n",
    "    s.user_id\n",
    "    ,CAST( ROUND( AVG( IIF(c.action = 'confirmed',1,0) * 1.0 ), 2) AS DECIMAL(10,2)) AS confirmation_rate \n",
    "from signups s\n",
    "left join confirmations c on s.user_id = c.user_id\n",
    "group by s.user_id"
   ]
  },
  {
   "cell_type": "code",
   "execution_count": null,
   "id": "79aa154b",
   "metadata": {},
   "outputs": [],
   "source": []
  }
 ],
 "metadata": {
  "kernelspec": {
   "display_name": ".NET (C#)",
   "language": "C#",
   "name": ".net-csharp"
  },
  "language_info": {
   "name": "polyglot-notebook"
  },
  "polyglot_notebook": {
   "kernelInfo": {
    "defaultKernelName": "csharp",
    "items": [
     {
      "aliases": [],
      "name": "csharp"
     }
    ]
   }
  }
 },
 "nbformat": 4,
 "nbformat_minor": 5
}
