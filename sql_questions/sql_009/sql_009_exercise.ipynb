{
 "cells": [
  {
   "cell_type": "code",
   "execution_count": 1,
   "id": "8f10a3ff",
   "metadata": {},
   "outputs": [
    {
     "data": {
      "text/html": [
       "<div><div></div><div></div><div><strong>Installed Packages</strong><ul><li><span>Microsoft.DotNet.Interactive.SqlServer, 1.0.0-beta.25323.1</span></li></ul></div></div>"
      ]
     },
     "metadata": {},
     "output_type": "display_data"
    },
    {
     "data": {
      "text/plain": [
       "Loading extension script from `C:\\Users\\Pedro_Carvalho1\\.nuget\\packages\\microsoft.dotnet.interactive.sqlserver\\1.0.0-beta.25323.1\\interactive-extensions\\dotnet\\extension.dib`"
      ]
     },
     "metadata": {},
     "output_type": "display_data"
    },
    {
     "data": {
      "text/html": [
       "<details><summary>Query Microsoft SQL Server databases.</summary>\r\n",
       "<p>This extension adds support for connecting to Microsoft SQL Server databases using the <code>#!connect mssql</code> magic command. For more information, run a cell using the <code>#!sql</code> magic command.</p>\r\n",
       "</details>"
      ]
     },
     "metadata": {},
     "output_type": "display_data"
    }
   ],
   "source": [
    "#r \"nuget:Microsoft.DotNet.Interactive.SqlServer, *-*\""
   ]
  },
  {
   "cell_type": "code",
   "execution_count": 2,
   "id": "f0a52a61",
   "metadata": {},
   "outputs": [],
   "source": [
    "using System.IO;\n",
    "\n",
    "var connStr = File.ReadAllText(@\"C:\\Users\\Pedro_Carvalho1\\conn_str.txt\");\n",
    "\n",
    "#!share --from csharp connStr"
   ]
  },
  {
   "cell_type": "code",
   "execution_count": 3,
   "id": "704026bc",
   "metadata": {},
   "outputs": [
    {
     "data": {
      "text/plain": [
       "Kernel added: #!sql-sql"
      ]
     },
     "metadata": {},
     "output_type": "display_data"
    }
   ],
   "source": [
    "#!connect mssql --kernel-name sql --connection-string @connStr"
   ]
  },
  {
   "cell_type": "code",
   "execution_count": 4,
   "id": "8ef1bcbd",
   "metadata": {},
   "outputs": [
    {
     "data": {
      "text/plain": [
       "Commands completed successfully."
      ]
     },
     "metadata": {},
     "output_type": "display_data"
    },
    {
     "data": {
      "text/plain": [
       "Commands completed successfully."
      ]
     },
     "metadata": {},
     "output_type": "display_data"
    },
    {
     "data": {
      "text/plain": [
       "Commands completed successfully."
      ]
     },
     "metadata": {},
     "output_type": "display_data"
    }
   ],
   "source": [
    "#!sql-sql\n",
    "\n",
    "-- Garantir que o schema existe\n",
    "IF NOT EXISTS (SELECT * FROM sys.schemas WHERE name = 'sql009')\n",
    "    EXEC('CREATE SCHEMA sql009');\n",
    "GO\n",
    "\n",
    "-- Dropar se já existir\n",
    "IF OBJECT_ID('sql009.Customers', 'U') IS NOT NULL DROP TABLE sql008.Customers;\n",
    "IF OBJECT_ID('sql009.Orders', 'U') IS NOT NULL DROP TABLE sql008.Orders;\n",
    "IF OBJECT_ID('sql009.OrderItems', 'U') IS NOT NULL DROP TABLE sql008.OrderItems;\n",
    "GO\n",
    "\n",
    "-- Customers\n",
    "CREATE TABLE sql008.Customers (\n",
    "    customer_id INT PRIMARY KEY,\n",
    "    customer_name VARCHAR(100) NOT NULL,\n",
    "    region VARCHAR(50) NOT NULL\n",
    ");\n",
    "\n",
    "-- Orders\n",
    "CREATE TABLE sql008.Orders (\n",
    "    order_id INT PRIMARY KEY,\n",
    "    customer_id INT NOT NULL,\n",
    "    order_date DATE NOT NULL,\n",
    "    status VARCHAR(20) NOT NULL, -- ex: Completed, Pending, Cancelled\n",
    "    CONSTRAINT FK_Orders_Customers FOREIGN KEY (customer_id) REFERENCES sql008.Customers(customer_id)\n",
    ");\n",
    "\n",
    "-- OrderItems\n",
    "CREATE TABLE sql008.OrderItems (\n",
    "    order_item_id INT PRIMARY KEY,\n",
    "    order_id INT NOT NULL,\n",
    "    product_id INT NOT NULL,\n",
    "    quantity INT NOT NULL,\n",
    "    unit_price DECIMAL(10,2) NOT NULL,\n",
    "    discount DECIMAL(5,2) NOT NULL, -- percentual de desconto (ex: 0.10 = 10%)\n",
    "    CONSTRAINT FK_OrderItems_Orders FOREIGN KEY (order_id) REFERENCES sql008.Orders(order_id)\n",
    ");\n",
    "GO\n"
   ]
  },
  {
   "cell_type": "code",
   "execution_count": 5,
   "id": "a9383666",
   "metadata": {},
   "outputs": [
    {
     "data": {
      "text/plain": [
       "(4 rows affected)"
      ]
     },
     "metadata": {},
     "output_type": "display_data"
    },
    {
     "data": {
      "text/plain": [
       "(7 rows affected)"
      ]
     },
     "metadata": {},
     "output_type": "display_data"
    },
    {
     "data": {
      "text/plain": [
       "(9 rows affected)"
      ]
     },
     "metadata": {},
     "output_type": "display_data"
    }
   ],
   "source": [
    "#!sql-sql\n",
    "\n",
    "-- Customers\n",
    "INSERT INTO sql008.Customers (customer_id, customer_name, region) VALUES\n",
    "(1, 'Alice', 'Europe'),\n",
    "(2, 'Bob', 'North America'),\n",
    "(3, 'Charlie', 'Europe'),\n",
    "(4, 'Diana', 'South America');\n",
    "\n",
    "-- Orders\n",
    "INSERT INTO sql008.Orders (order_id, customer_id, order_date, status) VALUES\n",
    "(101, 1, '2024-01-10', 'Completed'),\n",
    "(102, 1, '2024-02-15', 'Completed'),\n",
    "(103, 2, '2024-01-20', 'Cancelled'),\n",
    "(104, 2, '2024-03-05', 'Completed'),\n",
    "(105, 3, '2024-02-01', 'Pending'),\n",
    "(106, 4, '2024-01-25', 'Completed'),\n",
    "(107, 4, '2024-03-02', 'Completed');\n",
    "\n",
    "-- OrderItems\n",
    "INSERT INTO sql008.OrderItems (order_item_id, order_id, product_id, quantity, unit_price, discount) VALUES\n",
    "(1001, 101, 501, 2, 50.00, 0.00),\n",
    "(1002, 101, 502, 1, 200.00, 0.10),\n",
    "(1003, 102, 501, 3, 50.00, 0.05),\n",
    "(1004, 103, 503, 5, 30.00, 0.00),\n",
    "(1005, 104, 504, 10, 15.00, 0.20),\n",
    "(1006, 105, 505, 1, 1000.00, 0.00),\n",
    "(1007, 106, 506, 4, 25.00, 0.00),\n",
    "(1008, 107, 502, 2, 200.00, 0.15),\n",
    "(1009, 107, 507, 1, 500.00, 0.00);\n",
    "GO\n"
   ]
  },
  {
   "cell_type": "markdown",
   "id": "f171004c",
   "metadata": {},
   "source": [
    "❓ Enunciado da Questão\n",
    "\n",
    "Escreva uma query que retorne, para cada região, o valor médio de gasto por cliente considerando apenas pedidos com status = 'Completed'.\n",
    "\n",
    "O valor gasto por cliente deve considerar a soma de todos os seus pedidos finalizados, calculando corretamente o desconto aplicado em cada item.\n",
    "\n",
    "Exclua clientes que não possuem nenhum pedido finalizado.\n",
    "\n",
    "Arredonde o resultado final para duas casas decimais.\n",
    "\n",
    "Resultado esperado (colunas):\n",
    "\n",
    "region\n",
    "\n",
    "avg_customer_spend"
   ]
  },
  {
   "cell_type": "code",
   "execution_count": null,
   "id": "fd889339",
   "metadata": {},
   "outputs": [],
   "source": []
  }
 ],
 "metadata": {
  "kernelspec": {
   "display_name": ".NET (C#)",
   "language": "C#",
   "name": ".net-csharp"
  },
  "language_info": {
   "name": "polyglot-notebook"
  },
  "polyglot_notebook": {
   "kernelInfo": {
    "defaultKernelName": "csharp",
    "items": [
     {
      "aliases": [],
      "name": "csharp"
     }
    ]
   }
  }
 },
 "nbformat": 4,
 "nbformat_minor": 5
}
