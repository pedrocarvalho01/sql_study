{
 "cells": [
  {
   "cell_type": "code",
   "execution_count": 1,
   "id": "8f10a3ff",
   "metadata": {},
   "outputs": [
    {
     "data": {
      "text/html": [
       "<div><div></div><div></div><div><strong>Installed Packages</strong><ul><li><span>Microsoft.DotNet.Interactive.SqlServer, 1.0.0-beta.25323.1</span></li></ul></div></div>"
      ]
     },
     "metadata": {},
     "output_type": "display_data"
    },
    {
     "data": {
      "text/plain": [
       "Loading extension script from `C:\\Users\\Pedro_Carvalho1\\.nuget\\packages\\microsoft.dotnet.interactive.sqlserver\\1.0.0-beta.25323.1\\interactive-extensions\\dotnet\\extension.dib`"
      ]
     },
     "metadata": {},
     "output_type": "display_data"
    },
    {
     "data": {
      "text/html": [
       "<details><summary>Query Microsoft SQL Server databases.</summary>\r\n",
       "<p>This extension adds support for connecting to Microsoft SQL Server databases using the <code>#!connect mssql</code> magic command. For more information, run a cell using the <code>#!sql</code> magic command.</p>\r\n",
       "</details>"
      ]
     },
     "metadata": {},
     "output_type": "display_data"
    }
   ],
   "source": [
    "#r \"nuget:Microsoft.DotNet.Interactive.SqlServer, *-*\""
   ]
  },
  {
   "cell_type": "code",
   "execution_count": 2,
   "id": "f0a52a61",
   "metadata": {},
   "outputs": [],
   "source": [
    "using System.IO;\n",
    "\n",
    "var connStr = File.ReadAllText(@\"C:\\Users\\Pedro_Carvalho1\\conn_str.txt\");\n",
    "\n",
    "#!share --from csharp connStr"
   ]
  },
  {
   "cell_type": "code",
   "execution_count": 3,
   "id": "704026bc",
   "metadata": {},
   "outputs": [
    {
     "data": {
      "text/plain": [
       "Kernel added: #!sql-sql"
      ]
     },
     "metadata": {},
     "output_type": "display_data"
    }
   ],
   "source": [
    "#!connect mssql --kernel-name sql --connection-string @connStr"
   ]
  },
  {
   "cell_type": "code",
   "execution_count": 7,
   "id": "8ef1bcbd",
   "metadata": {},
   "outputs": [
    {
     "data": {
      "text/plain": [
       "Commands completed successfully."
      ]
     },
     "metadata": {},
     "output_type": "display_data"
    },
    {
     "data": {
      "text/plain": [
       "Commands completed successfully."
      ]
     },
     "metadata": {},
     "output_type": "display_data"
    },
    {
     "data": {
      "text/plain": [
       "Commands completed successfully."
      ]
     },
     "metadata": {},
     "output_type": "display_data"
    }
   ],
   "source": [
    "#!sql-sql\n",
    "\n",
    "-- Garantir que o schema existe\n",
    "IF NOT EXISTS (SELECT * FROM sys.schemas WHERE name = 'sql009')\n",
    "    EXEC('CREATE SCHEMA sql009');\n",
    "GO\n",
    "\n",
    "-- Dropar se já existir\n",
    "IF OBJECT_ID('sql009.Customers', 'U') IS NOT NULL DROP TABLE sql009.Customers;\n",
    "IF OBJECT_ID('sql009.Orders', 'U') IS NOT NULL DROP TABLE sql009.Orders;\n",
    "IF OBJECT_ID('sql009.OrderItems', 'U') IS NOT NULL DROP TABLE sql009.OrderItems;\n",
    "GO\n",
    "\n",
    "-- Customers\n",
    "CREATE TABLE sql009.Customers (\n",
    "    customer_id INT PRIMARY KEY,\n",
    "    customer_name VARCHAR(100) NOT NULL,\n",
    "    region VARCHAR(50) NOT NULL\n",
    ");\n",
    "\n",
    "-- Orders\n",
    "CREATE TABLE sql009.Orders (\n",
    "    order_id INT PRIMARY KEY,\n",
    "    customer_id INT NOT NULL,\n",
    "    order_date DATE NOT NULL,\n",
    "    status VARCHAR(20) NOT NULL, -- ex: Completed, Pending, Cancelled\n",
    "    CONSTRAINT FK_Orders_Customers FOREIGN KEY (customer_id) REFERENCES sql009.Customers(customer_id)\n",
    ");\n",
    "\n",
    "-- OrderItems\n",
    "CREATE TABLE sql009.OrderItems (\n",
    "    order_item_id INT PRIMARY KEY,\n",
    "    order_id INT NOT NULL,\n",
    "    product_id INT NOT NULL,\n",
    "    quantity INT NOT NULL,\n",
    "    unit_price DECIMAL(10,2) NOT NULL,\n",
    "    discount DECIMAL(5,2) NOT NULL, -- percentual de desconto (ex: 0.10 = 10%)\n",
    "    CONSTRAINT FK_OrderItems_Orders FOREIGN KEY (order_id) REFERENCES sql009.Orders(order_id)\n",
    ");\n",
    "GO\n"
   ]
  },
  {
   "cell_type": "code",
   "execution_count": 8,
   "id": "a9383666",
   "metadata": {},
   "outputs": [
    {
     "data": {
      "text/plain": [
       "(4 rows affected)"
      ]
     },
     "metadata": {},
     "output_type": "display_data"
    },
    {
     "data": {
      "text/plain": [
       "(7 rows affected)"
      ]
     },
     "metadata": {},
     "output_type": "display_data"
    },
    {
     "data": {
      "text/plain": [
       "(9 rows affected)"
      ]
     },
     "metadata": {},
     "output_type": "display_data"
    }
   ],
   "source": [
    "#!sql-sql\n",
    "\n",
    "-- Customers\n",
    "INSERT INTO sql009.Customers (customer_id, customer_name, region) VALUES\n",
    "(1, 'Alice', 'Europe'),\n",
    "(2, 'Bob', 'North America'),\n",
    "(3, 'Charlie', 'Europe'),\n",
    "(4, 'Diana', 'South America');\n",
    "\n",
    "-- Orders\n",
    "INSERT INTO sql009.Orders (order_id, customer_id, order_date, status) VALUES\n",
    "(101, 1, '2024-01-10', 'Completed'),\n",
    "(102, 1, '2024-02-15', 'Completed'),\n",
    "(103, 2, '2024-01-20', 'Cancelled'),\n",
    "(104, 2, '2024-03-05', 'Completed'),\n",
    "(105, 3, '2024-02-01', 'Pending'),\n",
    "(106, 4, '2024-01-25', 'Completed'),\n",
    "(107, 4, '2024-03-02', 'Completed');\n",
    "\n",
    "-- OrderItems\n",
    "INSERT INTO sql009.OrderItems (order_item_id, order_id, product_id, quantity, unit_price, discount) VALUES\n",
    "(1001, 101, 501, 2, 50.00, 0.00),\n",
    "(1002, 101, 502, 1, 200.00, 0.10),\n",
    "(1003, 102, 501, 3, 50.00, 0.05),\n",
    "(1004, 103, 503, 5, 30.00, 0.00),\n",
    "(1005, 104, 504, 10, 15.00, 0.20),\n",
    "(1006, 105, 505, 1, 1000.00, 0.00),\n",
    "(1007, 106, 506, 4, 25.00, 0.00),\n",
    "(1008, 107, 502, 2, 200.00, 0.15),\n",
    "(1009, 107, 507, 1, 500.00, 0.00);\n",
    "GO\n"
   ]
  },
  {
   "cell_type": "markdown",
   "id": "f171004c",
   "metadata": {},
   "source": [
    "❓ Enunciado da Questão\n",
    "\n",
    "Escreva uma query que retorne, para cada região, o valor médio de gasto por cliente considerando apenas pedidos com status = 'Completed'.\n",
    "\n",
    "O valor gasto por cliente deve considerar a soma de todos os seus pedidos finalizados, calculando corretamente o desconto aplicado em cada item.\n",
    "\n",
    "Exclua clientes que não possuem nenhum pedido finalizado.\n",
    "\n",
    "Arredonde o resultado final para duas casas decimais.\n",
    "\n",
    "Resultado esperado (colunas):\n",
    "\n",
    "region\n",
    "\n",
    "avg_customer_spend"
   ]
  },
  {
   "cell_type": "code",
   "execution_count": 10,
   "id": "fd889339",
   "metadata": {},
   "outputs": [
    {
     "data": {
      "text/plain": [
       "(4 rows affected)"
      ]
     },
     "metadata": {},
     "output_type": "display_data"
    },
    {
     "data": {
      "text/plain": [
       "(7 rows affected)"
      ]
     },
     "metadata": {},
     "output_type": "display_data"
    },
    {
     "data": {
      "text/plain": [
       "(9 rows affected)"
      ]
     },
     "metadata": {},
     "output_type": "display_data"
    },
    {
     "data": {
      "text/csv": [
       "customer_id,customer_name,region\r\n",
       "1,Alice,Europe\r\n",
       "2,Bob,\"North America\"\r\n",
       "3,Charlie,Europe\r\n",
       "4,Diana,\"South America\"\r\n"
      ],
      "text/html": [
       "<table><thead><tr><td><span>customer_id</span></td><td><span>customer_name</span></td><td><span>region</span></td></tr></thead><tbody><tr><td><div class=\"dni-plaintext\"><pre>1</pre></div></td><td>Alice</td><td>Europe</td></tr><tr><td><div class=\"dni-plaintext\"><pre>2</pre></div></td><td>Bob</td><td>North America</td></tr><tr><td><div class=\"dni-plaintext\"><pre>3</pre></div></td><td>Charlie</td><td>Europe</td></tr><tr><td><div class=\"dni-plaintext\"><pre>4</pre></div></td><td>Diana</td><td>South America</td></tr></tbody></table><style>\r\n",
       ".dni-code-hint {\r\n",
       "    font-style: italic;\r\n",
       "    overflow: hidden;\r\n",
       "    white-space: nowrap;\r\n",
       "}\r\n",
       ".dni-treeview {\r\n",
       "    white-space: nowrap;\r\n",
       "}\r\n",
       ".dni-treeview td {\r\n",
       "    vertical-align: top;\r\n",
       "    text-align: start;\r\n",
       "}\r\n",
       "details.dni-treeview {\r\n",
       "    padding-left: 1em;\r\n",
       "}\r\n",
       "table td {\r\n",
       "    text-align: start;\r\n",
       "}\r\n",
       "table tr { \r\n",
       "    vertical-align: top; \r\n",
       "    margin: 0em 0px;\r\n",
       "}\r\n",
       "table tr td pre \r\n",
       "{ \r\n",
       "    vertical-align: top !important; \r\n",
       "    margin: 0em 0px !important;\r\n",
       "} \r\n",
       "table th {\r\n",
       "    text-align: start;\r\n",
       "}\r\n",
       "</style>"
      ]
     },
     "metadata": {},
     "output_type": "display_data"
    },
    {
     "data": {
      "text/csv": [
       "order_id,customer_id,order_date,status\r\n",
       "101,1,2024-01-10T00:00:00.0000000,Completed\r\n",
       "102,1,2024-02-15T00:00:00.0000000,Completed\r\n",
       "103,2,2024-01-20T00:00:00.0000000,Cancelled\r\n",
       "104,2,2024-03-05T00:00:00.0000000,Completed\r\n",
       "105,3,2024-02-01T00:00:00.0000000,Pending\r\n",
       "106,4,2024-01-25T00:00:00.0000000,Completed\r\n",
       "107,4,2024-03-02T00:00:00.0000000,Completed\r\n"
      ],
      "text/html": [
       "<table><thead><tr><td><span>order_id</span></td><td><span>customer_id</span></td><td><span>order_date</span></td><td><span>status</span></td></tr></thead><tbody><tr><td><div class=\"dni-plaintext\"><pre>101</pre></div></td><td><div class=\"dni-plaintext\"><pre>1</pre></div></td><td><span>2024-01-10 00:00:00Z</span></td><td>Completed</td></tr><tr><td><div class=\"dni-plaintext\"><pre>102</pre></div></td><td><div class=\"dni-plaintext\"><pre>1</pre></div></td><td><span>2024-02-15 00:00:00Z</span></td><td>Completed</td></tr><tr><td><div class=\"dni-plaintext\"><pre>103</pre></div></td><td><div class=\"dni-plaintext\"><pre>2</pre></div></td><td><span>2024-01-20 00:00:00Z</span></td><td>Cancelled</td></tr><tr><td><div class=\"dni-plaintext\"><pre>104</pre></div></td><td><div class=\"dni-plaintext\"><pre>2</pre></div></td><td><span>2024-03-05 00:00:00Z</span></td><td>Completed</td></tr><tr><td><div class=\"dni-plaintext\"><pre>105</pre></div></td><td><div class=\"dni-plaintext\"><pre>3</pre></div></td><td><span>2024-02-01 00:00:00Z</span></td><td>Pending</td></tr><tr><td><div class=\"dni-plaintext\"><pre>106</pre></div></td><td><div class=\"dni-plaintext\"><pre>4</pre></div></td><td><span>2024-01-25 00:00:00Z</span></td><td>Completed</td></tr><tr><td><div class=\"dni-plaintext\"><pre>107</pre></div></td><td><div class=\"dni-plaintext\"><pre>4</pre></div></td><td><span>2024-03-02 00:00:00Z</span></td><td>Completed</td></tr></tbody></table><style>\r\n",
       ".dni-code-hint {\r\n",
       "    font-style: italic;\r\n",
       "    overflow: hidden;\r\n",
       "    white-space: nowrap;\r\n",
       "}\r\n",
       ".dni-treeview {\r\n",
       "    white-space: nowrap;\r\n",
       "}\r\n",
       ".dni-treeview td {\r\n",
       "    vertical-align: top;\r\n",
       "    text-align: start;\r\n",
       "}\r\n",
       "details.dni-treeview {\r\n",
       "    padding-left: 1em;\r\n",
       "}\r\n",
       "table td {\r\n",
       "    text-align: start;\r\n",
       "}\r\n",
       "table tr { \r\n",
       "    vertical-align: top; \r\n",
       "    margin: 0em 0px;\r\n",
       "}\r\n",
       "table tr td pre \r\n",
       "{ \r\n",
       "    vertical-align: top !important; \r\n",
       "    margin: 0em 0px !important;\r\n",
       "} \r\n",
       "table th {\r\n",
       "    text-align: start;\r\n",
       "}\r\n",
       "</style>"
      ]
     },
     "metadata": {},
     "output_type": "display_data"
    },
    {
     "data": {
      "text/csv": [
       "order_item_id,order_id,product_id,quantity,unit_price,discount\r\n",
       "1001,101,501,2,50.00,0.00\r\n",
       "1002,101,502,1,200.00,0.10\r\n",
       "1003,102,501,3,50.00,0.05\r\n",
       "1004,103,503,5,30.00,0.00\r\n",
       "1005,104,504,10,15.00,0.20\r\n",
       "1006,105,505,1,1000.00,0.00\r\n",
       "1007,106,506,4,25.00,0.00\r\n",
       "1008,107,502,2,200.00,0.15\r\n",
       "1009,107,507,1,500.00,0.00\r\n"
      ],
      "text/html": [
       "<table><thead><tr><td><span>order_item_id</span></td><td><span>order_id</span></td><td><span>product_id</span></td><td><span>quantity</span></td><td><span>unit_price</span></td><td><span>discount</span></td></tr></thead><tbody><tr><td><div class=\"dni-plaintext\"><pre>1001</pre></div></td><td><div class=\"dni-plaintext\"><pre>101</pre></div></td><td><div class=\"dni-plaintext\"><pre>501</pre></div></td><td><div class=\"dni-plaintext\"><pre>2</pre></div></td><td><div class=\"dni-plaintext\"><pre>50.00</pre></div></td><td><div class=\"dni-plaintext\"><pre>0.00</pre></div></td></tr><tr><td><div class=\"dni-plaintext\"><pre>1002</pre></div></td><td><div class=\"dni-plaintext\"><pre>101</pre></div></td><td><div class=\"dni-plaintext\"><pre>502</pre></div></td><td><div class=\"dni-plaintext\"><pre>1</pre></div></td><td><div class=\"dni-plaintext\"><pre>200.00</pre></div></td><td><div class=\"dni-plaintext\"><pre>0.10</pre></div></td></tr><tr><td><div class=\"dni-plaintext\"><pre>1003</pre></div></td><td><div class=\"dni-plaintext\"><pre>102</pre></div></td><td><div class=\"dni-plaintext\"><pre>501</pre></div></td><td><div class=\"dni-plaintext\"><pre>3</pre></div></td><td><div class=\"dni-plaintext\"><pre>50.00</pre></div></td><td><div class=\"dni-plaintext\"><pre>0.05</pre></div></td></tr><tr><td><div class=\"dni-plaintext\"><pre>1004</pre></div></td><td><div class=\"dni-plaintext\"><pre>103</pre></div></td><td><div class=\"dni-plaintext\"><pre>503</pre></div></td><td><div class=\"dni-plaintext\"><pre>5</pre></div></td><td><div class=\"dni-plaintext\"><pre>30.00</pre></div></td><td><div class=\"dni-plaintext\"><pre>0.00</pre></div></td></tr><tr><td><div class=\"dni-plaintext\"><pre>1005</pre></div></td><td><div class=\"dni-plaintext\"><pre>104</pre></div></td><td><div class=\"dni-plaintext\"><pre>504</pre></div></td><td><div class=\"dni-plaintext\"><pre>10</pre></div></td><td><div class=\"dni-plaintext\"><pre>15.00</pre></div></td><td><div class=\"dni-plaintext\"><pre>0.20</pre></div></td></tr><tr><td><div class=\"dni-plaintext\"><pre>1006</pre></div></td><td><div class=\"dni-plaintext\"><pre>105</pre></div></td><td><div class=\"dni-plaintext\"><pre>505</pre></div></td><td><div class=\"dni-plaintext\"><pre>1</pre></div></td><td><div class=\"dni-plaintext\"><pre>1000.00</pre></div></td><td><div class=\"dni-plaintext\"><pre>0.00</pre></div></td></tr><tr><td><div class=\"dni-plaintext\"><pre>1007</pre></div></td><td><div class=\"dni-plaintext\"><pre>106</pre></div></td><td><div class=\"dni-plaintext\"><pre>506</pre></div></td><td><div class=\"dni-plaintext\"><pre>4</pre></div></td><td><div class=\"dni-plaintext\"><pre>25.00</pre></div></td><td><div class=\"dni-plaintext\"><pre>0.00</pre></div></td></tr><tr><td><div class=\"dni-plaintext\"><pre>1008</pre></div></td><td><div class=\"dni-plaintext\"><pre>107</pre></div></td><td><div class=\"dni-plaintext\"><pre>502</pre></div></td><td><div class=\"dni-plaintext\"><pre>2</pre></div></td><td><div class=\"dni-plaintext\"><pre>200.00</pre></div></td><td><div class=\"dni-plaintext\"><pre>0.15</pre></div></td></tr><tr><td><div class=\"dni-plaintext\"><pre>1009</pre></div></td><td><div class=\"dni-plaintext\"><pre>107</pre></div></td><td><div class=\"dni-plaintext\"><pre>507</pre></div></td><td><div class=\"dni-plaintext\"><pre>1</pre></div></td><td><div class=\"dni-plaintext\"><pre>500.00</pre></div></td><td><div class=\"dni-plaintext\"><pre>0.00</pre></div></td></tr></tbody></table><style>\r\n",
       ".dni-code-hint {\r\n",
       "    font-style: italic;\r\n",
       "    overflow: hidden;\r\n",
       "    white-space: nowrap;\r\n",
       "}\r\n",
       ".dni-treeview {\r\n",
       "    white-space: nowrap;\r\n",
       "}\r\n",
       ".dni-treeview td {\r\n",
       "    vertical-align: top;\r\n",
       "    text-align: start;\r\n",
       "}\r\n",
       "details.dni-treeview {\r\n",
       "    padding-left: 1em;\r\n",
       "}\r\n",
       "table td {\r\n",
       "    text-align: start;\r\n",
       "}\r\n",
       "table tr { \r\n",
       "    vertical-align: top; \r\n",
       "    margin: 0em 0px;\r\n",
       "}\r\n",
       "table tr td pre \r\n",
       "{ \r\n",
       "    vertical-align: top !important; \r\n",
       "    margin: 0em 0px !important;\r\n",
       "} \r\n",
       "table th {\r\n",
       "    text-align: start;\r\n",
       "}\r\n",
       "</style>"
      ]
     },
     "metadata": {},
     "output_type": "display_data"
    }
   ],
   "source": [
    "#!sql-sql\n",
    "select * from sql009.Customers;\n",
    "select * from sql009.Orders;\n",
    "select * from sql009.OrderItems;"
   ]
  },
  {
   "cell_type": "code",
   "execution_count": 25,
   "id": "158b9c1a",
   "metadata": {},
   "outputs": [
    {
     "data": {
      "text/plain": [
       "(3 rows affected)"
      ]
     },
     "metadata": {},
     "output_type": "display_data"
    },
    {
     "data": {
      "text/csv": [
       "region,avg_res\r\n",
       "Europe,140.83\r\n",
       "\"North America\",120.00\r\n",
       "\"South America\",313.33\r\n"
      ],
      "text/html": [
       "<table><thead><tr><td><span>region</span></td><td><span>avg_res</span></td></tr></thead><tbody><tr><td>Europe</td><td><div class=\"dni-plaintext\"><pre>140.83</pre></div></td></tr><tr><td>North America</td><td><div class=\"dni-plaintext\"><pre>120.00</pre></div></td></tr><tr><td>South America</td><td><div class=\"dni-plaintext\"><pre>313.33</pre></div></td></tr></tbody></table><style>\r\n",
       ".dni-code-hint {\r\n",
       "    font-style: italic;\r\n",
       "    overflow: hidden;\r\n",
       "    white-space: nowrap;\r\n",
       "}\r\n",
       ".dni-treeview {\r\n",
       "    white-space: nowrap;\r\n",
       "}\r\n",
       ".dni-treeview td {\r\n",
       "    vertical-align: top;\r\n",
       "    text-align: start;\r\n",
       "}\r\n",
       "details.dni-treeview {\r\n",
       "    padding-left: 1em;\r\n",
       "}\r\n",
       "table td {\r\n",
       "    text-align: start;\r\n",
       "}\r\n",
       "table tr { \r\n",
       "    vertical-align: top; \r\n",
       "    margin: 0em 0px;\r\n",
       "}\r\n",
       "table tr td pre \r\n",
       "{ \r\n",
       "    vertical-align: top !important; \r\n",
       "    margin: 0em 0px !important;\r\n",
       "} \r\n",
       "table th {\r\n",
       "    text-align: start;\r\n",
       "}\r\n",
       "</style>"
      ]
     },
     "metadata": {},
     "output_type": "display_data"
    }
   ],
   "source": [
    "#!sql-sql\n",
    "\n",
    "-- Escreva uma query que retorne, para cada região, o valor médio de gasto por cliente considerando apenas pedidos com status = 'Completed'.\n",
    "-- O valor gasto por cliente deve considerar a soma de todos os seus pedidos finalizados, calculando corretamente o desconto aplicado em cada item.\n",
    "-- Exclua clientes que não possuem nenhum pedido finalizado.\n",
    "-- Arredonde o resultado final para duas casas decimais.\n",
    "\n",
    "SELECT  \n",
    "    c.region\n",
    "    ,\n",
    "    CAST(\n",
    "        ROUND(\n",
    "            1.0 *\n",
    "            AVG( ( oi.quantity * ( oi.unit_price * ( 1 - oi.discount ) ) * 1.0 ) )\n",
    "        ,2 ) \n",
    "    AS DECIMAL(10,2)) as avg_res\n",
    "FROM \n",
    "    sql009.Customers c\n",
    "LEFT JOIN\n",
    "    sql009.Orders o on c.customer_id = o.customer_id\n",
    "LEFT JOIN\n",
    "    sql009.OrderItems oi on o.order_id = oi.order_id\n",
    "WHERE\n",
    "    o.status = 'Completed'    \n",
    "GROUP BY\n",
    "    c.region\n",
    "\n",
    "     \n",
    "\n"
   ]
  },
  {
   "cell_type": "code",
   "execution_count": 35,
   "id": "cac1b095",
   "metadata": {},
   "outputs": [
    {
     "data": {
      "text/plain": [
       "(3 rows affected)"
      ]
     },
     "metadata": {},
     "output_type": "display_data"
    },
    {
     "data": {
      "text/csv": [
       "REGION,avg_customer_spend\r\n",
       "Europe,422.50\r\n",
       "\"North America\",120.00\r\n",
       "\"South America\",940.00\r\n"
      ],
      "text/html": [
       "<table><thead><tr><td><span>REGION</span></td><td><span>avg_customer_spend</span></td></tr></thead><tbody><tr><td>Europe</td><td><div class=\"dni-plaintext\"><pre>422.50</pre></div></td></tr><tr><td>North America</td><td><div class=\"dni-plaintext\"><pre>120.00</pre></div></td></tr><tr><td>South America</td><td><div class=\"dni-plaintext\"><pre>940.00</pre></div></td></tr></tbody></table><style>\r\n",
       ".dni-code-hint {\r\n",
       "    font-style: italic;\r\n",
       "    overflow: hidden;\r\n",
       "    white-space: nowrap;\r\n",
       "}\r\n",
       ".dni-treeview {\r\n",
       "    white-space: nowrap;\r\n",
       "}\r\n",
       ".dni-treeview td {\r\n",
       "    vertical-align: top;\r\n",
       "    text-align: start;\r\n",
       "}\r\n",
       "details.dni-treeview {\r\n",
       "    padding-left: 1em;\r\n",
       "}\r\n",
       "table td {\r\n",
       "    text-align: start;\r\n",
       "}\r\n",
       "table tr { \r\n",
       "    vertical-align: top; \r\n",
       "    margin: 0em 0px;\r\n",
       "}\r\n",
       "table tr td pre \r\n",
       "{ \r\n",
       "    vertical-align: top !important; \r\n",
       "    margin: 0em 0px !important;\r\n",
       "} \r\n",
       "table th {\r\n",
       "    text-align: start;\r\n",
       "}\r\n",
       "</style>"
      ]
     },
     "metadata": {},
     "output_type": "display_data"
    }
   ],
   "source": [
    "#!sql-sql\n",
    "\n",
    "WITH _AVG_CUST AS (\n",
    "    SELECT  \n",
    "        C.CUSTOMER_ID\n",
    "        , C.CUSTOMER_NAME\n",
    "        , C.REGION\n",
    "        , SUM( ( oi.quantity * ( oi.unit_price * ( 1 - oi.discount ) ) * 1.0 ) ) AS AVG_CUST\n",
    "    FROM    \n",
    "        SQL009.Customers C\n",
    "    INNER JOIN\n",
    "        sql009.Orders o on c.customer_id = o.customer_id\n",
    "    INNER JOIN\n",
    "        sql009.OrderItems oi on o.order_id = oi.order_id\n",
    "    WHERE\n",
    "        o.status = 'Completed'\n",
    "    GROUP BY\n",
    "        C.CUSTOMER_ID\n",
    "        , C.CUSTOMER_NAME\n",
    "        , C.REGION\n",
    ")\n",
    "SELECT\n",
    "    REGION\n",
    "    , CAST( ROUND( 1.0 * AVG( AVG_CUST ) , 2 ) AS DECIMAL(10,2) ) AS avg_customer_spend \n",
    "FROM _AVG_CUST\n",
    "GROUP BY REGION"
   ]
  },
  {
   "cell_type": "code",
   "execution_count": null,
   "id": "58e3007c",
   "metadata": {},
   "outputs": [],
   "source": []
  }
 ],
 "metadata": {
  "kernelspec": {
   "display_name": ".NET (C#)",
   "language": "C#",
   "name": ".net-csharp"
  },
  "language_info": {
   "name": "polyglot-notebook"
  },
  "polyglot_notebook": {
   "kernelInfo": {
    "defaultKernelName": "csharp",
    "items": [
     {
      "aliases": [],
      "name": "csharp"
     }
    ]
   }
  }
 },
 "nbformat": 4,
 "nbformat_minor": 5
}
