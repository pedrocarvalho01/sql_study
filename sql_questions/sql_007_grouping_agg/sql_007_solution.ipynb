{
 "cells": [
  {
   "cell_type": "code",
   "execution_count": null,
   "id": "5406bb72",
   "metadata": {
    "language_info": {
     "name": "polyglot-notebook"
    },
    "polyglot_notebook": {
     "kernelName": "csharp"
    }
   },
   "outputs": [],
   "source": [
    "#r \"nuget:Microsoft.DotNet.Interactive.SqlServer, *-*\""
   ]
  },
  {
   "cell_type": "code",
   "execution_count": 2,
   "id": "c35a4318",
   "metadata": {
    "language_info": {
     "name": "polyglot-notebook"
    },
    "polyglot_notebook": {
     "kernelName": "csharp"
    }
   },
   "outputs": [],
   "source": [
    "using System.IO;\n",
    "\n",
    "var connStr = File.ReadAllText(@\"C:\\Users\\Pedro_Carvalho1\\conn_str.txt\");\n",
    "\n",
    "#!share --from csharp connStr"
   ]
  },
  {
   "cell_type": "code",
   "execution_count": null,
   "id": "6c3c328e",
   "metadata": {
    "language_info": {
     "name": "polyglot-notebook"
    },
    "polyglot_notebook": {
     "kernelName": "csharp"
    }
   },
   "outputs": [],
   "source": [
    "#!connect mssql --kernel-name sql --connection-string @connStr"
   ]
  },
  {
   "cell_type": "code",
   "execution_count": null,
   "metadata": {
    "language_info": {
     "name": "polyglot-notebook"
    },
    "polyglot_notebook": {
     "kernelName": "csharp"
    }
   },
   "outputs": [],
   "source": [
    "#!sql-sql\n",
    "-- Garantir que o schema existe\n",
    "if not exists (select * from sys.schemas where name = 'groupex')\n",
    "    exec('create schema groupex');\n",
    "go\n",
    "\n",
    "-- Se a tabela já existir, elimina antes\n",
    "if object_id('groupex.Sales', 'U') is not null\n",
    "    drop table groupex.Sales;\n",
    "go\n",
    "\n",
    "-- Criação da tabela\n",
    "create table groupex.Sales (\n",
    "    sale_id int primary key,\n",
    "    product_id int not null,\n",
    "    category varchar(50) not null,\n",
    "    sale_date date not null,\n",
    "    quantity int not null,\n",
    "    unit_price decimal(10,2) not null,\n",
    "    discount_applied bit not null -- 0 = sem desconto, 1 = com desconto\n",
    ");\n"
   ]
  },
  {
   "cell_type": "code",
   "execution_count": null,
   "metadata": {
    "language_info": {
     "name": "polyglot-notebook"
    },
    "polyglot_notebook": {
     "kernelName": "csharp"
    }
   },
   "outputs": [],
   "source": [
    "#!sql-sql\n",
    "\n",
    "insert into groupex.Sales (sale_id, product_id, category, sale_date, quantity, unit_price, discount_applied)\n",
    "values\n",
    "(1, 101, 'Electronics', '2023-01-05', 2, 500.00, 0),\n",
    "(2, 102, 'Electronics', '2023-01-05', 1, 1200.00, 1),\n",
    "(3, 103, 'Clothing',    '2023-01-06', 5, 50.00, 0),\n",
    "(4, 104, 'Clothing',    '2023-01-07', 2, 80.00, 1),\n",
    "(5, 105, 'Clothing',    '2023-01-07', 1, 120.00, 1),\n",
    "(6, 106, 'Electronics', '2023-01-08', 3, 300.00, 0),\n",
    "(7, 107, 'Books',       '2023-01-08', 4, 25.00, 1),\n",
    "(8, 108, 'Books',       '2023-01-09', 2, 40.00, 0);\n"
   ]
  },
  {
   "cell_type": "code",
   "execution_count": 9,
   "metadata": {
    "language_info": {
     "name": "polyglot-notebook"
    },
    "polyglot_notebook": {
     "kernelName": "csharp"
    }
   },
   "outputs": [
    {
     "data": {
      "text/plain": [
       "(8 rows affected)"
      ]
     },
     "metadata": {},
     "output_type": "display_data"
    },
    {
     "data": {
      "text/csv": [
       "sale_id,product_id,category,sale_date,quantity,unit_price,discount_applied\r\n",
       "1,101,Electronics,2023-01-05T00:00:00.0000000,2,500.00,False\r\n",
       "2,102,Electronics,2023-01-05T00:00:00.0000000,1,1200.00,True\r\n",
       "3,103,Clothing,2023-01-06T00:00:00.0000000,5,50.00,False\r\n",
       "4,104,Clothing,2023-01-07T00:00:00.0000000,2,80.00,True\r\n",
       "5,105,Clothing,2023-01-07T00:00:00.0000000,1,120.00,True\r\n",
       "6,106,Electronics,2023-01-08T00:00:00.0000000,3,300.00,False\r\n",
       "7,107,Books,2023-01-08T00:00:00.0000000,4,25.00,True\r\n",
       "8,108,Books,2023-01-09T00:00:00.0000000,2,40.00,False\r\n"
      ],
      "text/html": [
       "<table><thead><tr><td><span>sale_id</span></td><td><span>product_id</span></td><td><span>category</span></td><td><span>sale_date</span></td><td><span>quantity</span></td><td><span>unit_price</span></td><td><span>discount_applied</span></td></tr></thead><tbody><tr><td><div class=\"dni-plaintext\"><pre>1</pre></div></td><td><div class=\"dni-plaintext\"><pre>101</pre></div></td><td>Electronics</td><td><span>2023-01-05 00:00:00Z</span></td><td><div class=\"dni-plaintext\"><pre>2</pre></div></td><td><div class=\"dni-plaintext\"><pre>500.00</pre></div></td><td><div class=\"dni-plaintext\"><pre>False</pre></div></td></tr><tr><td><div class=\"dni-plaintext\"><pre>2</pre></div></td><td><div class=\"dni-plaintext\"><pre>102</pre></div></td><td>Electronics</td><td><span>2023-01-05 00:00:00Z</span></td><td><div class=\"dni-plaintext\"><pre>1</pre></div></td><td><div class=\"dni-plaintext\"><pre>1200.00</pre></div></td><td><div class=\"dni-plaintext\"><pre>True</pre></div></td></tr><tr><td><div class=\"dni-plaintext\"><pre>3</pre></div></td><td><div class=\"dni-plaintext\"><pre>103</pre></div></td><td>Clothing</td><td><span>2023-01-06 00:00:00Z</span></td><td><div class=\"dni-plaintext\"><pre>5</pre></div></td><td><div class=\"dni-plaintext\"><pre>50.00</pre></div></td><td><div class=\"dni-plaintext\"><pre>False</pre></div></td></tr><tr><td><div class=\"dni-plaintext\"><pre>4</pre></div></td><td><div class=\"dni-plaintext\"><pre>104</pre></div></td><td>Clothing</td><td><span>2023-01-07 00:00:00Z</span></td><td><div class=\"dni-plaintext\"><pre>2</pre></div></td><td><div class=\"dni-plaintext\"><pre>80.00</pre></div></td><td><div class=\"dni-plaintext\"><pre>True</pre></div></td></tr><tr><td><div class=\"dni-plaintext\"><pre>5</pre></div></td><td><div class=\"dni-plaintext\"><pre>105</pre></div></td><td>Clothing</td><td><span>2023-01-07 00:00:00Z</span></td><td><div class=\"dni-plaintext\"><pre>1</pre></div></td><td><div class=\"dni-plaintext\"><pre>120.00</pre></div></td><td><div class=\"dni-plaintext\"><pre>True</pre></div></td></tr><tr><td><div class=\"dni-plaintext\"><pre>6</pre></div></td><td><div class=\"dni-plaintext\"><pre>106</pre></div></td><td>Electronics</td><td><span>2023-01-08 00:00:00Z</span></td><td><div class=\"dni-plaintext\"><pre>3</pre></div></td><td><div class=\"dni-plaintext\"><pre>300.00</pre></div></td><td><div class=\"dni-plaintext\"><pre>False</pre></div></td></tr><tr><td><div class=\"dni-plaintext\"><pre>7</pre></div></td><td><div class=\"dni-plaintext\"><pre>107</pre></div></td><td>Books</td><td><span>2023-01-08 00:00:00Z</span></td><td><div class=\"dni-plaintext\"><pre>4</pre></div></td><td><div class=\"dni-plaintext\"><pre>25.00</pre></div></td><td><div class=\"dni-plaintext\"><pre>True</pre></div></td></tr><tr><td><div class=\"dni-plaintext\"><pre>8</pre></div></td><td><div class=\"dni-plaintext\"><pre>108</pre></div></td><td>Books</td><td><span>2023-01-09 00:00:00Z</span></td><td><div class=\"dni-plaintext\"><pre>2</pre></div></td><td><div class=\"dni-plaintext\"><pre>40.00</pre></div></td><td><div class=\"dni-plaintext\"><pre>False</pre></div></td></tr></tbody></table><style>\r\n",
       ".dni-code-hint {\r\n",
       "    font-style: italic;\r\n",
       "    overflow: hidden;\r\n",
       "    white-space: nowrap;\r\n",
       "}\r\n",
       ".dni-treeview {\r\n",
       "    white-space: nowrap;\r\n",
       "}\r\n",
       ".dni-treeview td {\r\n",
       "    vertical-align: top;\r\n",
       "    text-align: start;\r\n",
       "}\r\n",
       "details.dni-treeview {\r\n",
       "    padding-left: 1em;\r\n",
       "}\r\n",
       "table td {\r\n",
       "    text-align: start;\r\n",
       "}\r\n",
       "table tr { \r\n",
       "    vertical-align: top; \r\n",
       "    margin: 0em 0px;\r\n",
       "}\r\n",
       "table tr td pre \r\n",
       "{ \r\n",
       "    vertical-align: top !important; \r\n",
       "    margin: 0em 0px !important;\r\n",
       "} \r\n",
       "table th {\r\n",
       "    text-align: start;\r\n",
       "}\r\n",
       "</style>"
      ]
     },
     "metadata": {},
     "output_type": "display_data"
    }
   ],
   "source": [
    "#!sql-sql\n",
    "select * from groupex.Sales"
   ]
  },
  {
   "cell_type": "markdown",
   "metadata": {
    "language_info": {
     "name": "polyglot-notebook"
    },
    "polyglot_notebook": {
     "kernelName": "csharp"
    }
   },
   "source": [
    "### ❓ Pergunta\n",
    "\n",
    "Monte uma query que traga, **por categoria e por dia**:\n",
    "\n",
    "1. Quantidade total de vendas (`sales_count` = número de registros).\n",
    "2. Quantidade total de itens vendidos (`total_quantity`).\n",
    "3. Valor total vendido (`total_amount` = quantidade × preço unitário).\n",
    "4. Quantidade de vendas com desconto (`discounted_sales_count`).\n",
    "5. Valor total vendido com desconto (`discounted_total_amount`).\n",
    "\n",
    "👉 Use **agrupamento (`GROUP BY`) + `SUM(CASE WHEN …)`** para calcular as métricas de desconto.\n",
    "👉 Não use CTEs, nem Window Functions, nem subqueries – só agregações.\n",
    "\n",
    "---\n",
    "\n",
    "⚡ Assim você vai treinar exatamente o estilo que comentou: **`SUM/COUNT` com `CASE` no mesmo agrupamento**.\n",
    "\n",
    "Quer que eu já prepare uma **segunda questão mais puxada** (com `JOIN` entre duas tabelas e filtros condicionais), ou prefere primeiro resolver essa e me mostrar seu `SELECT`?\n"
   ]
  },
  {
   "cell_type": "code",
   "execution_count": null,
   "metadata": {
    "language_info": {
     "name": "polyglot-notebook"
    },
    "polyglot_notebook": {
     "kernelName": "csharp"
    }
   },
   "outputs": [
    {
     "data": {
      "text/plain": [
       "(6 rows affected)"
      ]
     },
     "metadata": {},
     "output_type": "display_data"
    },
    {
     "data": {
      "text/csv": [
       "DAY,CATEGORY,SALES_COUNT,TOTAL_QUANTITY,TOTAL_AMOUNT,DISCOUNTED_SALES_COUNT,DISCOUNTED_TOTAL_AMOUNT\r\n",
       "2023-01-08,Books,1,4,100.00,1,100.00\r\n",
       "2023-01-09,Books,1,2,80.00,0,0.00\r\n",
       "2023-01-06,Clothing,1,5,250.00,0,0.00\r\n",
       "2023-01-07,Clothing,2,3,280.00,2,280.00\r\n",
       "2023-01-05,Electronics,2,3,2200.00,1,1200.00\r\n",
       "2023-01-08,Electronics,1,3,900.00,0,0.00\r\n"
      ],
      "text/html": [
       "<table><thead><tr><td><span>DAY</span></td><td><span>CATEGORY</span></td><td><span>SALES_COUNT</span></td><td><span>TOTAL_QUANTITY</span></td><td><span>TOTAL_AMOUNT</span></td><td><span>DISCOUNTED_SALES_COUNT</span></td><td><span>DISCOUNTED_TOTAL_AMOUNT</span></td></tr></thead><tbody><tr><td>2023-01-08</td><td>Books</td><td><div class=\"dni-plaintext\"><pre>1</pre></div></td><td><div class=\"dni-plaintext\"><pre>4</pre></div></td><td><div class=\"dni-plaintext\"><pre>100.00</pre></div></td><td><div class=\"dni-plaintext\"><pre>1</pre></div></td><td><div class=\"dni-plaintext\"><pre>100.00</pre></div></td></tr><tr><td>2023-01-09</td><td>Books</td><td><div class=\"dni-plaintext\"><pre>1</pre></div></td><td><div class=\"dni-plaintext\"><pre>2</pre></div></td><td><div class=\"dni-plaintext\"><pre>80.00</pre></div></td><td><div class=\"dni-plaintext\"><pre>0</pre></div></td><td><div class=\"dni-plaintext\"><pre>0.00</pre></div></td></tr><tr><td>2023-01-06</td><td>Clothing</td><td><div class=\"dni-plaintext\"><pre>1</pre></div></td><td><div class=\"dni-plaintext\"><pre>5</pre></div></td><td><div class=\"dni-plaintext\"><pre>250.00</pre></div></td><td><div class=\"dni-plaintext\"><pre>0</pre></div></td><td><div class=\"dni-plaintext\"><pre>0.00</pre></div></td></tr><tr><td>2023-01-07</td><td>Clothing</td><td><div class=\"dni-plaintext\"><pre>2</pre></div></td><td><div class=\"dni-plaintext\"><pre>3</pre></div></td><td><div class=\"dni-plaintext\"><pre>280.00</pre></div></td><td><div class=\"dni-plaintext\"><pre>2</pre></div></td><td><div class=\"dni-plaintext\"><pre>280.00</pre></div></td></tr><tr><td>2023-01-05</td><td>Electronics</td><td><div class=\"dni-plaintext\"><pre>2</pre></div></td><td><div class=\"dni-plaintext\"><pre>3</pre></div></td><td><div class=\"dni-plaintext\"><pre>2200.00</pre></div></td><td><div class=\"dni-plaintext\"><pre>1</pre></div></td><td><div class=\"dni-plaintext\"><pre>1200.00</pre></div></td></tr><tr><td>2023-01-08</td><td>Electronics</td><td><div class=\"dni-plaintext\"><pre>1</pre></div></td><td><div class=\"dni-plaintext\"><pre>3</pre></div></td><td><div class=\"dni-plaintext\"><pre>900.00</pre></div></td><td><div class=\"dni-plaintext\"><pre>0</pre></div></td><td><div class=\"dni-plaintext\"><pre>0.00</pre></div></td></tr></tbody></table><style>\r\n",
       ".dni-code-hint {\r\n",
       "    font-style: italic;\r\n",
       "    overflow: hidden;\r\n",
       "    white-space: nowrap;\r\n",
       "}\r\n",
       ".dni-treeview {\r\n",
       "    white-space: nowrap;\r\n",
       "}\r\n",
       ".dni-treeview td {\r\n",
       "    vertical-align: top;\r\n",
       "    text-align: start;\r\n",
       "}\r\n",
       "details.dni-treeview {\r\n",
       "    padding-left: 1em;\r\n",
       "}\r\n",
       "table td {\r\n",
       "    text-align: start;\r\n",
       "}\r\n",
       "table tr { \r\n",
       "    vertical-align: top; \r\n",
       "    margin: 0em 0px;\r\n",
       "}\r\n",
       "table tr td pre \r\n",
       "{ \r\n",
       "    vertical-align: top !important; \r\n",
       "    margin: 0em 0px !important;\r\n",
       "} \r\n",
       "table th {\r\n",
       "    text-align: start;\r\n",
       "}\r\n",
       "</style>"
      ]
     },
     "metadata": {},
     "output_type": "display_data"
    }
   ],
   "source": [
    "#!sql-sql\n",
    "\n",
    "SELECT\n",
    "    format( sale_date, 'yyyy-MM-dd') as DAY\n",
    "    ,category AS CATEGORY\n",
    "    ,COUNT(*) AS SALES_COUNT\n",
    "    ,SUM( QUANTITY ) AS TOTAL_QUANTITY\n",
    "    ,SUM( QUANTITY * UNIT_PRICE ) AS TOTAL_AMOUNT\n",
    "    ,SUM( CASE WHEN DISCOUNT_APPLIED = 1 THEN 1 ELSE 0 END ) AS DISCOUNTED_SALES_COUNT\n",
    "    ,SUM( CASE WHEN DISCOUNT_APPLIED = 1 THEN QUANTITY * UNIT_PRICE ELSE 0 END ) AS DISCOUNTED_TOTAL_AMOUNT\n",
    "FROM   \n",
    "    groupex.sales\n",
    "GROUP BY\n",
    "    format(sale_date, 'yyyy-MM-dd')\n",
    "    ,category\n"
   ]
  },
  {
   "cell_type": "code",
   "execution_count": null,
   "metadata": {
    "language_info": {
     "name": "polyglot-notebook"
    },
    "polyglot_notebook": {
     "kernelName": "csharp"
    }
   },
   "outputs": [],
   "source": []
  }
 ],
 "metadata": {
  "kernelspec": {
   "display_name": ".NET (C#)",
   "language": "C#",
   "name": ".net-csharp"
  },
  "language_info": {
   "name": "polyglot-notebook"
  },
  "polyglot_notebook": {
   "kernelInfo": {
    "defaultKernelName": "csharp",
    "items": [
     {
      "aliases": [],
      "name": "csharp"
     },
     {
      "aliases": [],
      "languageName": "T-SQL",
      "name": "sql-sql"
     },
     {
      "aliases": [],
      "languageName": "T-SQL",
      "name": "sql-sqlstudy"
     }
    ]
   }
  }
 },
 "nbformat": 4,
 "nbformat_minor": 5
}
